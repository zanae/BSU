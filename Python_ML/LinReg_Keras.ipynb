{
  "cells": [
    {
      "cell_type": "code",
      "execution_count": 1,
      "id": "9baa4c67",
      "metadata": {
        "id": "9baa4c67"
      },
      "outputs": [],
      "source": [
        "#!pip install tensorflow\n",
        "import numpy as np\n",
        "import matplotlib.pyplot as plt\n",
        "import tensorflow as tf\n",
        "import random"
      ]
    },
    {
      "cell_type": "code",
      "execution_count": 2,
      "id": "ac3077c7",
      "metadata": {
        "id": "ac3077c7"
      },
      "outputs": [],
      "source": [
        "class LinKeras(tf.keras.Model):\n",
        "    def __init__(self, neuron_num=2):\n",
        "        super(LinKeras, self).__init__()\n",
        "        self.neuron_num = neuron_num\n",
        "        self.hidden = tf.keras.layers.Dense(neuron_num, use_bias=True, activation='linear', name='hidden')\n",
        "        self.out = tf.keras.layers.Dense(1, use_bias=True, activation='linear', name='output')\n",
        "    def call(self, x): # функтор\n",
        "        x = self.hidden(x)\n",
        "        return self.out(x)"
      ]
    },
    {
      "cell_type": "code",
      "execution_count": 3,
      "id": "2140f241",
      "metadata": {
        "id": "2140f241"
      },
      "outputs": [],
      "source": [
        "import pandas as pd\n",
        "from sklearn.datasets import fetch_california_housing\n",
        "from sklearn.preprocessing import StandardScaler\n",
        "from sklearn.model_selection import train_test_split\n",
        "california = fetch_california_housing(as_frame=True)\n",
        "calidf = pd.DataFrame(data=np.c_[california['data'], california['target']], columns = california['feature_names'] + ['target'])\n",
        "calidf = StandardScaler().fit_transform(calidf)\n",
        "X_ = np.delete(calidf, -1, axis=1) ; Y_ = calidf[:, -1]\n",
        "X_train, X_test, Y_train, Y_test = train_test_split(X_, Y_, test_size=0.3)"
      ]
    },
    {
      "cell_type": "code",
      "execution_count": 4,
      "id": "55cab11c",
      "metadata": {
        "id": "55cab11c"
      },
      "outputs": [],
      "source": [
        "X_train = tf.constant(tf.reshape(X_train, (X_train.shape[0], 1, -1)), dtype=tf.float64)\n",
        "X_test = tf.constant(tf.reshape(X_test, (X_test.shape[0], 1, -1)), dtype=tf.float64)\n",
        "Y_train = tf.constant(tf.reshape(Y_train, (Y_train.shape[0], 1, -1)), dtype=tf.float64)\n",
        "Y_test = tf.constant(tf.reshape(Y_test, (Y_test.shape[0], 1, -1)), dtype=tf.float64)"
      ]
    },
    {
      "cell_type": "markdown",
      "id": "1e2c91da",
      "metadata": {
        "id": "1e2c91da"
      },
      "source": [
        "X_train[0] @ tf.Variable(tf.random.uniform((8, 3), -1, 1, name='weights', dtype=tf.float64))"
      ]
    },
    {
      "cell_type": "code",
      "execution_count": 5,
      "id": "5ccf8767",
      "metadata": {
        "id": "5ccf8767"
      },
      "outputs": [],
      "source": [
        "opt = tf.keras.optimizers.SGD(0.01)"
      ]
    },
    {
      "cell_type": "code",
      "execution_count": 6,
      "id": "UR7h4ChE1hT_",
      "metadata": {
        "id": "UR7h4ChE1hT_"
      },
      "outputs": [],
      "source": [
        "model = LinKeras(5)\n",
        "#model_graph = tf.function(model)\n",
        "loss = tf.keras.losses.MeanSquaredError()\n",
        "num_epochs = 5000\n",
        "error = np.inf\n",
        "old = 0\n",
        "i = 0\n",
        "#old = error"
      ]
    },
    {
      "cell_type": "code",
      "execution_count": 7,
      "id": "6ddd1810",
      "metadata": {
        "colab": {
          "base_uri": "https://localhost:8080/"
        },
        "id": "6ddd1810",
        "outputId": "ca2be350-a4f6-4ca7-d3e1-a2554a32e51d"
      },
      "outputs": [
        {
          "name": "stdout",
          "output_type": "stream",
          "text": [
            "Epoch: 0, loss: 4.351105690002441\n",
            "Epoch: 500, loss: 0.39607658982276917\n",
            "Epoch: 1000, loss: 0.39462709426879883\n",
            "Epoch: 1500, loss: 0.39458706974983215\n",
            "Epoch: 2000, loss: 0.3945854604244232\n",
            "Epoch: 2500, loss: 0.3945852816104889\n",
            "Epoch: 3000, loss: 0.3945852518081665\n",
            "Epoch: 3500, loss: 0.3945852518081665\n",
            "Epoch: 4000, loss: 0.3945852220058441\n",
            "Epoch: 4500, loss: 0.3945852220058441\n"
          ]
        }
      ],
      "source": [
        "for i in range(num_epochs):\n",
        "#while (abs(error - old) > 1e-25):\n",
        "    with tf.GradientTape() as tape:\n",
        "        y_pred = model(X_train, training=True)\n",
        "        #y_pred = model(X_train)\n",
        "        error = loss(Y_train, y_pred)\n",
        "    gradients = tape.gradient(error, model.trainable_variables)\n",
        "    opt.apply_gradients(zip(gradients, model.trainable_variables))\n",
        "    if i % 500 == 0:\n",
        "        print(f\"Epoch: {i}, loss: {error.numpy()}\")\n",
        "        #i+=1\n",
        "#print(model(X,training=False).numpy())"
      ]
    },
    {
      "cell_type": "code",
      "execution_count": null,
      "id": "aNXqPw9KZduW",
      "metadata": {
        "id": "aNXqPw9KZduW"
      },
      "outputs": [],
      "source": []
    }
  ],
  "metadata": {
    "colab": {
      "provenance": []
    },
    "kernelspec": {
      "display_name": "Python 3 (ipykernel)",
      "language": "python",
      "name": "python3"
    },
    "language_info": {
      "codemirror_mode": {
        "name": "ipython",
        "version": 3
      },
      "file_extension": ".py",
      "mimetype": "text/x-python",
      "name": "python",
      "nbconvert_exporter": "python",
      "pygments_lexer": "ipython3",
      "version": "3.11.4"
    }
  },
  "nbformat": 4,
  "nbformat_minor": 5
}
