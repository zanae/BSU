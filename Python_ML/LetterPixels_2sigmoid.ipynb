{
 "cells": [
  {
   "cell_type": "markdown",
   "id": "b8bb664a",
   "metadata": {},
   "source": [
    "# Распознавание букв Backpropagation\n",
    "Чуть изменённая задача из книги Роберта Каллана 2001 гг. \"Основные концепции нейронных сетей\". стр. 63 \"Классификация символов\"\n",
    "\n",
    "Реализация в Numpy (успех зависит от нач иниц)\n",
    "\n",
    "Классификация символов A, B, C, D. Чёрно-белые изображения букв 8 на 8, 6 картинок на букву (обучение - по 4, 2 тестовые)\n",
    "\n",
    "Сойдёт использование 2-х сигмоид и выходные векторы как 00 для A, 01 для B и т.д. "
   ]
  },
  {
   "attachments": {
    "a0.png": {
     "image/png": "[encoded data removed]"
    },
    "a1.png": {
     "image/png": "[encoded data removed]"
    },
    "a2.png": {
     "image/png": "[encoded data removed]"
    },
    "a3.png": {
     "image/png": "[encoded data removed]"
    },
    "a4.png": {
     "image/png": "[encoded data removed]"
    },
    "a5.png": {
     "image/png": "[encoded data removed]"
    },
    "b0.png": {
     "image/png": "[encoded data removed]"
    },
    "b1.png": {
     "image/png": "[encoded data removed]"
    },
    "b2.png": {
     "image/png": "[encoded data removed]"
    },
    "b3.png": {
     "image/png": "[encoded data removed]"
    },
    "b4.png": {
     "image/png": "[encoded data removed]"
    },
    "b5.png": {
     "image/png": "[encoded data removed]"
    },
    "c0.png": {
     "image/png": "[encoded data removed]"
    },
    "c1.png": {
     "image/png": "[encoded data removed]"
    },
    "c2.png": {
     "image/png": "[encoded data removed]"
    },
    "c3.png": {
     "image/png": "[encoded data removed]"
    },
    "c4.png": {
     "image/png": "[encoded data removed]"
    },
    "c5.png": {
     "image/png": "[encoded data removed]"
    },
    "d0.png": {
     "image/png": "[encoded data removed]"
    },
    "d1.png": {
     "image/png": "[encoded data removed]"
    },
    "d2.png": {
     "image/png": "[encoded data removed]"
    },
    "d3.png": {
     "image/png": "[encoded data removed]"
    },
    "d4.png": {
     "image/png": "[encoded data removed]"
    },
    "d5.png": {
     "image/png": "[encoded data removed]"
    }
   },
   "cell_type": "markdown",
   "id": "b782ecaf",
   "metadata": {},
   "source": [
    "![a0.png](attachment:a0.png) ![a1.png](attachment:a1.png) ![a2.png](attachment:a2.png) ![a3.png](attachment:a3.png) ![a4.png](attachment:a4.png) ![a5.png](attachment:a5.png) ![b0.png](attachment:b0.png) ![b1.png](attachment:b1.png) ![b2.png](attachment:b2.png) ![b3.png](attachment:b3.png) ![b4.png](attachment:b4.png) ![b5.png](attachment:b5.png) ![c0.png](attachment:c0.png) ![c1.png](attachment:c1.png) ![c2.png](attachment:c2.png) ![c3.png](attachment:c3.png) ![c4.png](attachment:c4.png) ![c5.png](attachment:c5.png) ![d0.png](attachment:d0.png) ![d1.png](attachment:d1.png) ![d2.png](attachment:d2.png) ![d3.png](attachment:d3.png) ![d4.png](attachment:d4.png) ![d5.png](attachment:d5.png)"
   ]
  },
  {
   "cell_type": "code",
   "execution_count": 1,
   "id": "96ab2b39",
   "metadata": {},
   "outputs": [],
   "source": [
    "import matplotlib.pyplot as plt\n",
    "%matplotlib inline\n",
    "import numpy as np\n",
    "from PIL import Image\n",
    "path = \"D:/pseudo_data/\"\n",
    "a = []; b = []; c = []; d = []\n",
    "n_imgperl = 6\n",
    "for i in range(n_imgperl):\n",
    "    a.append(Image.open(path + f\"a{i}.png\"))\n",
    "    b.append(Image.open(path + f\"b{i}.png\"))\n",
    "    c.append(Image.open(path + f\"c{i}.png\"))\n",
    "    d.append(Image.open(path + f\"d{i}.png\"))"
   ]
  },
  {
   "cell_type": "code",
   "execution_count": 2,
   "id": "97ec81be",
   "metadata": {},
   "outputs": [],
   "source": [
    "def PixelArray(img):\n",
    "    img = np.array(img)\n",
    "    oz = np.zeros((8, 8))\n",
    "    for i in range(img.shape[0]):\n",
    "        oz[i] = [x[0] for x in img[i]]\n",
    "    oz[oz == 0] = 1\n",
    "    oz[oz > 1] = 0 # 255 - это белый, белый пусть будет 0\n",
    "    return oz"
   ]
  },
  {
   "cell_type": "code",
   "execution_count": 3,
   "id": "ba9e5674",
   "metadata": {},
   "outputs": [],
   "source": [
    "letter0 = np.array([PixelArray(a[0]), PixelArray(b[0]), PixelArray(c[0]), PixelArray(d[0])])\n",
    "letter1 = np.array([PixelArray(a[1]), PixelArray(b[1]), PixelArray(c[1]), PixelArray(d[1])])\n",
    "letter2 = np.array([PixelArray(a[2]), PixelArray(b[2]), PixelArray(c[2]), PixelArray(d[2])])\n",
    "letter3 = np.array([PixelArray(a[3]), PixelArray(b[3]), PixelArray(c[3]), PixelArray(d[3])])\n",
    "letter4 = np.array([PixelArray(a[4]), PixelArray(b[4]), PixelArray(c[4]), PixelArray(d[4])])\n",
    "letter5 = np.array([PixelArray(a[5]), PixelArray(b[5]), PixelArray(c[5]), PixelArray(d[5])])\n",
    "answers = np.array([[0, 0], [0, 1], [1, 0], [1, 1]])\n",
    "#answers = np.zeros((4, 4))\n",
    "#for i in range(4):\n",
    "#    answers[i, i] = 1\n",
    "#X = np.concatenate((letter1, letter2, letter3, letter4, letter5))\n",
    "X = np.concatenate((letter0, letter1, letter2, letter3)) ; Y = np.concatenate((answers, answers, answers, answers))\n",
    "#Y = np.concatenate((answers, answers, answers, answers, answers))"
   ]
  },
  {
   "cell_type": "code",
   "execution_count": 4,
   "id": "a93d7e5b",
   "metadata": {},
   "outputs": [],
   "source": [
    "def net(x, w):\n",
    "    return np.dot(x, w)\n",
    "def sigmoid(wx):\n",
    "    return 1 / (1 + np.exp(-wx))\n",
    "def sigderiv(sig_neuron):\n",
    "    return sig_neuron * (1 - sig_neuron)"
   ]
  },
  {
   "cell_type": "code",
   "execution_count": 5,
   "id": "f5dbce18",
   "metadata": {},
   "outputs": [],
   "source": [
    "def forward_pass(x, w_hid, w_out):\n",
    "    neurons = sigmoid(net(x, w_hid))\n",
    "    output = sigmoid(net(neurons, w_out))\n",
    "    return neurons, output\n",
    "def predict(x, w_hid, w_out):\n",
    "    x = np.append(x.reshape(1, -1), [[-1]])\n",
    "    neurons = sigmoid(net(x, w_hid))\n",
    "    output = sigmoid(net(neurons, w_out))\n",
    "    return output\n",
    "    #return np.round(output)"
   ]
  },
  {
   "cell_type": "code",
   "execution_count": 6,
   "id": "c4ec3c9f",
   "metadata": {},
   "outputs": [],
   "source": [
    "def Learning(epsilon, X, Y, num_hid, lmd):\n",
    "    inp_size = np.size(X[0]) + 1 ; out = Y[0].size\n",
    "    w_hid = np.random.uniform(-1, 1, (inp_size, num_hid))\n",
    "    w_out = np.random.uniform(-1, 1, (num_hid, out))\n",
    "    max_error = float('inf') \n",
    "    epoch = 0\n",
    "    while (max_error > epsilon):\n",
    "        max_error = epsilon * 1.1\n",
    "        for i in range(X.shape[0]):\n",
    "            x = np.append(X[i], [[1]])\n",
    "            x = x.reshape(1, -1) #shape: (1, 64) (65 т.к. фиктивный признак 1)\n",
    "            y = Y[i]\n",
    "            neurons, output = forward_pass(x, w_hid, w_out)\n",
    "            error = y - output\n",
    "            delta = error * sigderiv(output) # (1, 2) локальный градиент выходного нейрона\n",
    "            delta2 = sigderiv(neurons) * np.dot(delta, np.transpose(w_out)) #лок град скрытых\n",
    "            w_out += lmd * np.dot(np.transpose(neurons), delta)\n",
    "            w_hid += lmd * np.dot(np.transpose(x), delta2) \n",
    "            #print(output, y)\n",
    "            if abs(max_error) < abs(error.any()):\n",
    "                max_error = np.sum(abs(error))\n",
    "        if epoch % 1000 == 0:\n",
    "            print(f'\\t{epoch} {max_error}')\n",
    "        epoch += 1\n",
    "    return w_hid, w_out, epoch"
   ]
  },
  {
   "cell_type": "code",
   "execution_count": 7,
   "id": "239a5adb",
   "metadata": {
    "scrolled": true
   },
   "outputs": [
    {
     "name": "stdout",
     "output_type": "stream",
     "text": [
      "\t0 1.2053139284804133\n",
      "\t1000 0.015786299817998728\n",
      "\t2000 0.010914699200446298\n",
      "\t3000 0.008825239915279726\n",
      "\t4000 0.007599077256464581\n",
      "\t5000 0.006770486071440485\n",
      "\t6000 0.0061630595007408084\n",
      "\t7000 0.00569342083206148\n",
      "\t8000 0.005316408310756526\n",
      "\t9000 0.005005167269653277\n",
      "\t10000 0.00474260199267218\n",
      "\t11000 0.004517246689483945\n",
      "\t12000 0.004321087772854559\n",
      "\t13000 0.004148333959776762\n",
      "\t14000 0.003994682479606992\n",
      "\t15000 0.003856861086663943\n",
      "\t16000 0.0037323312240967743\n",
      "\t17000 0.0036190893682158665\n",
      "\t18000 0.003515530360501229\n",
      "\t19000 0.0034203511006039022\n",
      "\t20000 0.0033324812348829447\n",
      "\t21000 0.003251032333478565\n",
      "\t22000 0.0031752599985681584\n",
      "\t23000 0.00310453518835474\n",
      "\t24000 0.0030383222207527316\n",
      "\t25000 0.0029761616931218704\n",
      "\t26000 0.002917657070619195\n",
      "\t27000 0.0028624640471832663\n",
      "\t28000 0.002810282026457167\n",
      "\t29000 0.002760847241011999\n",
      "\t30000 0.0027139271502080176\n",
      "\t31000 0.0026693158451362997\n",
      "\t32000 0.002626830253517176\n",
      "\t33000 0.002586306985058573\n",
      "\t34000 0.0025475996933805867\n",
      "\t35000 0.0025105768574520404\n",
      "\t36000 0.0024751199059380724\n",
      "\t37000 0.002441121623548037\n",
      "\t38000 0.002408484790620835\n",
      "\t39000 0.002377121016667094\n",
      "\t40000 0.002346949736015236\n",
      "\t41000 0.002317897339608077\n",
      "\t42000 0.0022898964216607753\n",
      "\t43000 0.002262885123654579\n",
      "\t44000 0.002236806561142113\n",
      "\t45000 0.0022116083212946336\n",
      "\t46000 0.0021872420210994337\n",
      "\t47000 0.0021636629177460565\n",
      "\t48000 0.002140829564066027\n",
      "\t49000 0.0021187035030026946\n",
      "\t50000 0.002097248995988399\n",
      "\t51000 0.0020764327808738825\n",
      "\t52000 0.002056223855682604\n",
      "\t53000 0.0020365932849998325\n",
      "\t54000 0.0020175140262433944\n",
      "\t55000 0.001998960773456626\n",
      "\t56000 0.0019809098165645134\n",
      "\t57000 0.001963338914322099\n",
      "\t58000 0.0019462271794072894\n",
      "\t59000 0.001929554974307246\n",
      "\t60000 0.00191330381682564\n",
      "\t61000 0.0018974562941715956\n",
      "\t62000 0.0018819959847312662\n",
      "\t63000 0.0018669073867151331\n",
      "\t64000 0.0018521758529866927\n",
      "\t65000 0.001837787531443702\n",
      "\t66000 0.0018237293104033103\n",
      "\t67000 0.0018099887685032456\n",
      "\t68000 0.001796554128682737\n",
      "\t69000 0.0017834142158575927\n",
      "\t70000 0.0017705584179451561\n",
      "\t71000 0.0017579766499251637\n",
      "\t72000 0.0017456593206679472\n",
      "\t73000 0.0017335973022770679\n",
      "\t74000 0.001721781901726116\n",
      "\t75000 0.0017102048345879473\n",
      "\t76000 0.0016988582006799424\n",
      "\t77000 0.0016877344614550926\n",
      "\t78000 0.001676826419002686\n",
      "\t79000 0.0016661271965180413\n",
      "\t80000 0.0016556302201217177\n",
      "\t81000 0.0016453292019229515\n",
      "\t82000 0.0016352181242256236\n",
      "\t83000 0.0016252912247861628\n",
      "\t84000 0.0016155429830430057\n",
      "\t85000 0.0016059681072430054\n",
      "\t86000 0.001596561522394735\n",
      "\t87000 0.001587318358988954\n",
      "\t88000 0.0015782339424278424\n",
      "\t89000 0.001569303783109044\n",
      "\t90000 0.0015605235671244388\n",
      "\t91000 0.0015518891475178043\n",
      "\t92000 0.0015433965360723834\n",
      "\t93000 0.0015350418955856204\n",
      "\t94000 0.0015268215325979773\n",
      "\t95000 0.0015187318905449665\n",
      "\t96000 0.0015107695433042023\n",
      "\t97000 0.0015029311891111563\n"
     ]
    }
   ],
   "source": [
    "hidden_weights, output_weights, number_of_epochs = Learning(1.5e-3, X, Y, 8, 9e-1)"
   ]
  },
  {
   "cell_type": "code",
   "execution_count": 8,
   "id": "778a1834",
   "metadata": {
    "scrolled": true
   },
   "outputs": [
    {
     "name": "stdout",
     "output_type": "stream",
     "text": [
      "На обучение было потрачено 97379 эпох.\n",
      "\t[0.00014914 0.00044558] [0 0]\n",
      "\t[5.85469870e-04 9.98446777e-01] [0 1]\n",
      "\t[0.91646838 0.05339177] [1 0]\n",
      "\t[0.99885154 0.99921665] [1 1]\n"
     ]
    }
   ],
   "source": [
    "print(f\"На обучение было потрачено {number_of_epochs} эпох.\")\n",
    "for i in range(letter1.shape[0]):\n",
    "    #print(f'\\t{[round(i) for i in predict(letter3[i], hidden_weights, output_weights)]} {answers[i]}')\n",
    "    print(f'\\t{predict(letter4[i], hidden_weights, output_weights)} {answers[i]}')"
   ]
  },
  {
   "cell_type": "code",
   "execution_count": 9,
   "id": "48fc1e37",
   "metadata": {
    "scrolled": true
   },
   "outputs": [
    {
     "name": "stdout",
     "output_type": "stream",
     "text": [
      "На обучение было потрачено 97379 эпох.\n",
      "\t[0.00033333 0.00095498] [0 0]\n",
      "\t[0.00102148 0.99889626] [0 1]\n",
      "\t[0.99940307 0.00268753] [1 0]\n",
      "\t[0.98519241 0.99939279] [1 1]\n"
     ]
    }
   ],
   "source": [
    "print(f\"На обучение было потрачено {number_of_epochs} эпох.\")\n",
    "for i in range(letter2.shape[0]): #letter1\n",
    "    #x,o=forward_pass(np.append(X[i], [[-1]]).reshape(1, -1))\n",
    "    #print(x, o)\n",
    "    #print(f'\\t{[round(i) for i in predict(letter3[i], hidden_weights, output_weights)]} {answers[i]}')\n",
    "    print(f'\\t{predict(letter5[i], hidden_weights, output_weights)} {answers[i]}')\n",
    "    #print(X[i])"
   ]
  },
  {
   "cell_type": "code",
   "execution_count": 10,
   "id": "06077ef8",
   "metadata": {
    "scrolled": false
   },
   "outputs": [
    {
     "name": "stdout",
     "output_type": "stream",
     "text": [
      "\t[0.9969708  0.99943064]\n"
     ]
    }
   ],
   "source": [
    "print(f'\\t{predict(PixelArray(Image.open(path + f\"d99.png\")), hidden_weights, output_weights)}')"
   ]
  },
  {
   "cell_type": "code",
   "execution_count": null,
   "id": "5704b0a4",
   "metadata": {},
   "outputs": [],
   "source": []
  }
 ],
 "metadata": {
  "kernelspec": {
   "display_name": "Python 3 (ipykernel)",
   "language": "python",
   "name": "python3"
  },
  "language_info": {
   "codemirror_mode": {
    "name": "ipython",
    "version": 3
   },
   "file_extension": ".py",
   "mimetype": "text/x-python",
   "name": "python",
   "nbconvert_exporter": "python",
   "pygments_lexer": "ipython3",
   "version": "3.11.4"
  }
 },
 "nbformat": 4,
 "nbformat_minor": 5
}
