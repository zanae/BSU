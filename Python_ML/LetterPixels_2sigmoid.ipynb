{
 "cells": [
  {
   "cell_type": "markdown",
   "id": "b8bb664a",
   "metadata": {},
   "source": [
    "# Распознавание букв Backpropagation\n",
    "Чуть изменённая задача из книги Роберта Каллана 2001 гг. \"Основные концепции нейронных сетей\". стр. 63 \"Классификация символов\"\n",
    "\n",
    "Реализация в Numpy (успех зависит от нач иниц)\n",
    "\n",
    "Классификация символов A, B, C, D. Чёрно-белые изображения букв 8 на 8, по 5 картинок на букву (обучение - по 4, 2 тестовые)\n",
    "\n",
    "Сойдёт использование 2-х сигмоид и выходные векторы как 00 для A, 01 для B и т.д. "
   ]
  },
  {
   "attachments": {
    "a0.png": {
     "image/png": "[encoded data removed]"
    },
    "a1.png": {
     "image/png": "[encoded data removed]"
    },
    "a2.png": {
     "image/png": "[encoded data removed]"
    },
    "a3.png": {
     "image/png": "[encoded data removed]"
    },
    "a4.png": {
     "image/png": "[encoded data removed]"
    },
    "a5.png": {
     "image/png": "[encoded data removed]"
    },
    "b0.png": {
     "image/png": "[encoded data removed]"
    },
    "b1.png": {
     "image/png": "[encoded data removed]"
    },
    "b2.png": {
     "image/png": "[encoded data removed]"
    },
    "b3.png": {
     "image/png": "[encoded data removed]"
    },
    "b4.png": {
     "image/png": "[encoded data removed]"
    },
    "b5.png": {
     "image/png": "[encoded data removed]"
    },
    "c0.png": {
     "image/png": "[encoded data removed]"
    },
    "c1.png": {
     "image/png": "[encoded data removed]"
    },
    "c2.png": {
     "image/png": "[encoded data removed]"
    },
    "c3.png": {
     "image/png": "[encoded data removed]"
    },
    "c4.png": {
     "image/png": "[encoded data removed]"
    },
    "c5.png": {
     "image/png": "[encoded data removed]"
    },
    "d0.png": {
     "image/png": "[encoded data removed]"
    },
    "d1.png": {
     "image/png": "[encoded data removed]"
    },
    "d2.png": {
     "image/png": "[encoded data removed]"
    },
    "d3.png": {
     "image/png": "[encoded data removed]"
    },
    "d4.png": {
     "image/png": "[encoded data removed]"
    },
    "d5.png": {
     "image/png": "[encoded data removed]"
    }
   },
   "cell_type": "markdown",
   "id": "50dba63d",
   "metadata": {},
   "source": [
    "![d5.png](attachment:d5.png)![d4.png](attachment:d4.png)![d3.png](attachment:d3.png)![d2.png](attachment:d2.png)![d1.png](attachment:d1.png)![d0.png](attachment:d0.png)![c5.png](attachment:c5.png)![c4.png](attachment:c4.png)![c3.png](attachment:c3.png)![c2.png](attachment:c2.png)![c1.png](attachment:c1.png)![c0.png](attachment:c0.png)![b5.png](attachment:b5.png)![b4.png](attachment:b4.png)![b3.png](attachment:b3.png)![b2.png](attachment:b2.png)![b1.png](attachment:b1.png)![b0.png](attachment:b0.png)![a5.png](attachment:a5.png)![a4.png](attachment:a4.png)![a3.png](attachment:a3.png)![a2.png](attachment:a2.png)![a1.png](attachment:a1.png)![a0.png](attachment:a0.png)"
   ]
  },
  {
   "cell_type": "code",
   "execution_count": 1,
   "id": "96ab2b39",
   "metadata": {},
   "outputs": [],
   "source": [
    "import matplotlib.pyplot as plt\n",
    "%matplotlib inline\n",
    "import numpy as np\n",
    "from PIL import Image\n",
    "path = \"D:/pseudo_data/\"\n",
    "a = []; b = []; c = []; d = []\n",
    "n_imgperl = 6\n",
    "for i in range(n_imgperl):\n",
    "    a.append(Image.open(path + f\"a{i}.png\"))\n",
    "    b.append(Image.open(path + f\"b{i}.png\"))\n",
    "    c.append(Image.open(path + f\"c{i}.png\"))\n",
    "    d.append(Image.open(path + f\"d{i}.png\"))"
   ]
  },
  {
   "cell_type": "code",
   "execution_count": 2,
   "id": "97ec81be",
   "metadata": {},
   "outputs": [],
   "source": [
    "def PixelArray(img):\n",
    "    img = np.array(img)\n",
    "    oz = np.zeros((8, 8))\n",
    "    for i in range(img.shape[0]):\n",
    "        oz[i] = [x[0] for x in img[i]]\n",
    "    oz[oz == 0] = 1\n",
    "    oz[oz > 1] = 0 # 255 - это белый, белый пусть будет 0\n",
    "    return oz"
   ]
  },
  {
   "cell_type": "code",
   "execution_count": 3,
   "id": "2b5df18a",
   "metadata": {},
   "outputs": [],
   "source": [
    "letter0 = np.array([PixelArray(a[0]), PixelArray(b[0]), PixelArray(c[0]), PixelArray(d[0])])\n",
    "letter1 = np.array([PixelArray(a[1]), PixelArray(b[1]), PixelArray(c[1]), PixelArray(d[1])])\n",
    "letter2 = np.array([PixelArray(a[2]), PixelArray(b[2]), PixelArray(c[2]), PixelArray(d[2])])\n",
    "letter3 = np.array([PixelArray(a[3]), PixelArray(b[3]), PixelArray(c[3]), PixelArray(d[3])])\n",
    "letter4 = np.array([PixelArray(a[4]), PixelArray(b[4]), PixelArray(c[4]), PixelArray(d[4])])\n",
    "letter5 = np.array([PixelArray(a[5]), PixelArray(b[5]), PixelArray(c[5]), PixelArray(d[5])])"
   ]
  },
  {
   "cell_type": "code",
   "execution_count": 4,
   "id": "ba9e5674",
   "metadata": {},
   "outputs": [],
   "source": [
    "answers = np.array([[0, 0], [0, 1], [1, 0], [1, 1]])\n",
    "#answers = np.zeros((4, 4))\n",
    "#for i in range(4):\n",
    "#    answers[i, i] = 1\n",
    "#X = np.concatenate((letter1, letter2, letter3, letter4, letter5))\n",
    "X = np.concatenate((letter0, letter1, letter2, letter3)) ; Y = np.concatenate((answers, answers, answers, answers))\n",
    "#Y = np.concatenate((answers, answers, answers, answers, answers))"
   ]
  },
  {
   "cell_type": "code",
   "execution_count": 5,
   "id": "a93d7e5b",
   "metadata": {},
   "outputs": [],
   "source": [
    "def net(x, w):\n",
    "    return np.dot(x, w)\n",
    "def sigmoid(wx):\n",
    "    return 1 / (1 + np.exp(-wx))\n",
    "def sigderiv(sig_neuron):\n",
    "    return sig_neuron * (1 - sig_neuron)"
   ]
  },
  {
   "cell_type": "code",
   "execution_count": 6,
   "id": "f5dbce18",
   "metadata": {},
   "outputs": [],
   "source": [
    "def forward_pass(x, w_hid, w_out):\n",
    "    neurons = sigmoid(net(x, w_hid))\n",
    "    output = sigmoid(net(neurons, w_out))\n",
    "    return neurons, output\n",
    "def predict(x, w_hid, w_out):\n",
    "    x = np.append(x.reshape(1, -1), [[-1]])\n",
    "    neurons = sigmoid(net(x, w_hid))\n",
    "    output = sigmoid(net(neurons, w_out))\n",
    "    return output"
   ]
  },
  {
   "cell_type": "code",
   "execution_count": 7,
   "id": "c4ec3c9f",
   "metadata": {},
   "outputs": [],
   "source": [
    "def Learning(epsilon, X, Y, num_hid, lmd):\n",
    "    inp_size = np.size(X[0]) + 1\n",
    "    out = Y[0].size\n",
    "    w_hid = np.random.uniform(-1, 1, (inp_size, num_hid))\n",
    "    #w_hid = np.zeros((inp_size, hid))\n",
    "    w_out = np.random.uniform(-1, 1, (num_hid, out))\n",
    "# обучение\n",
    "    mean_error = float('inf')\n",
    "    epoch = 0\n",
    "    while (mean_error > epsilon):\n",
    "    #for epoch in range(10000):\n",
    "        mean_error = 0\n",
    "        for i in range(X.shape[0]):\n",
    "            x = np.append(X[i], [[-1]])\n",
    "            x = x.reshape(1, -1) #shape: 1, 64 (65 т.к. фиктивный признак 1)\n",
    "            y = Y[i]\n",
    "            neurons, output = forward_pass(x, w_hid, w_out)\n",
    "            error = y - output\n",
    "            #sigderiv 1, 2\n",
    "            delta = error * sigderiv(output) #1, 2 локальный градиент выходного нейрона\n",
    "            #print(f'delta {sigderiv(output).shape}')\n",
    "            delta2 = sigderiv(neurons) * np.dot(delta, np.transpose(w_out)) #лок град 2\n",
    "            w_out += lmd * np.dot(np.transpose(neurons), delta)\n",
    "            w_hid += lmd * np.dot(np.transpose(x), delta2) #64 8\n",
    "            #print(output, y)\n",
    "            mean_error += np.sum(abs(error))\n",
    "        mean_error /= X.shape[0] * error.size\n",
    "        if epoch % 1000 == 0:\n",
    "            print(f'\\t{epoch} {mean_error}')\n",
    "        epoch += 1\n",
    "    return w_hid, w_out, epoch"
   ]
  },
  {
   "cell_type": "code",
   "execution_count": 8,
   "id": "239a5adb",
   "metadata": {
    "scrolled": true
   },
   "outputs": [
    {
     "name": "stdout",
     "output_type": "stream",
     "text": [
      "\t0 0.4854663095354681\n",
      "\t1000 0.011275456080731413\n",
      "\t2000 0.007886736080722288\n",
      "\t3000 0.00641058309773352\n",
      "\t4000 0.005537336118401822\n",
      "\t5000 0.0049441188536547605\n",
      "\t6000 0.004507581358595273\n",
      "\t7000 0.004169078008354809\n",
      "\t8000 0.003896700215681386\n",
      "\t9000 0.0036714061388070113\n",
      "\t10000 0.0034810379205909557\n",
      "\t11000 0.003317421164378446\n",
      "\t12000 0.0031748304189226557\n",
      "\t13000 0.003049120246626582\n",
      "\t14000 0.0029372056000143156\n",
      "\t15000 0.0028367368455041947\n",
      "\t16000 0.002745888754130381\n",
      "\t17000 0.002663219054580806\n",
      "\t18000 0.002587570978862668\n",
      "\t19000 0.0025180044956886753\n",
      "\t20000 0.002453746758385675\n",
      "\t21000 0.0023941557291531257\n",
      "\t22000 0.0023386930299656218\n",
      "\t23000 0.00228690337628632\n",
      "\t24000 0.002238398786969159\n",
      "\t25000 0.002192846312640688\n",
      "\t26000 0.002149958392113469\n",
      "\t27000 0.002109485196652643\n",
      "\t28000 0.002071208495351595\n",
      "\t29000 0.0020349366969100915\n",
      "\t30000 0.0020005008102029166\n",
      "\t31000 0.001967751128995489\n",
      "\t32000 0.0019365544922374856\n",
      "\t33000 0.001906792005458602\n",
      "\t34000 0.0018783571342801772\n",
      "\t35000 0.0018511541002999754\n",
      "\t36000 0.001825096524265623\n",
      "\t37000 0.001800106272714906\n",
      "\t38000 0.0017761124729841734\n",
      "\t39000 0.001753050668289789\n",
      "\t40000 0.001730862089937179\n",
      "\t41000 0.0017094930279412997\n",
      "\t42000 0.0016888942847102378\n",
      "\t43000 0.0016690206991414028\n",
      "\t44000 0.001649830730651032\n",
      "\t45000 0.0016312860944177913\n",
      "\t46000 0.0016133514405512772\n",
      "\t47000 0.0015959940710702975\n",
      "\t48000 0.0015791836895338491\n",
      "\t49000 0.0015628921789660327\n",
      "\t50000 0.0015470934043711798\n",
      "\t51000 0.0015317630366864386\n",
      "\t52000 0.001516878395473635\n",
      "\t53000 0.001502418308038804\n",
      "\t54000 0.0014883629829902207\n",
      "\t55000 0.0014746938965169085\n",
      "\t56000 0.0014613936899041387\n",
      "\t57000 0.0014484460769956943\n",
      "\t58000 0.0014358357604825965\n",
      "\t59000 0.0014235483560401181\n",
      "\t60000 0.0014115703234578844\n",
      "\t61000 0.0013998889040145112\n",
      "\t62000 0.0013884920634377458\n",
      "\t63000 0.0013773684398716549\n",
      "\t64000 0.0013665072963387295\n",
      "\t65000 0.0013558984772458437\n",
      "\t66000 0.001345532368533557\n",
      "\t67000 0.001335399861113207\n",
      "\t68000 0.0013254923172765858\n",
      "\t69000 0.0013158015397960283\n",
      "\t70000 0.0013063197434647735\n",
      "\t71000 0.0012970395288524116\n",
      "\t72000 0.001287953858074527\n",
      "\t73000 0.0012790560323971256\n",
      "\t74000 0.0012703396715130076\n",
      "\t75000 0.001261798694344948\n",
      "\t76000 0.0012534273012445457\n",
      "\t77000 0.001245219957468425\n",
      "\t78000 0.0012371713778247268\n",
      "\t79000 0.0012292765123932063\n",
      "\t80000 0.0012215305332312974\n",
      "\t81000 0.0012139288219870682\n",
      "\t82000 0.0012064669583463404\n",
      "\t83000 0.0011991407092486403\n",
      "\t84000 0.0011919460188120773\n",
      "\t85000 0.0011848789989134239\n",
      "\t86000 0.0011779359203722443\n",
      "\t87000 0.0011711132046954406\n",
      "\t88000 0.0011644074163392139\n",
      "\t89000 0.0011578152554516823\n",
      "\t90000 0.0011513335510601932\n",
      "\t91000 0.0011449592546725613\n",
      "\t92000 0.001138689434261915\n",
      "\t93000 0.0011325212686089036\n",
      "\t94000 0.0011264520419760307\n",
      "\t95000 0.0011204791390915863\n",
      "\t96000 0.0011146000404220113\n",
      "\t97000 0.0011088123177133502\n",
      "\t98000 0.0011031136297837885\n",
      "\t99000 0.0010975017185510358\n",
      "\t100000 0.001091974405278319\n",
      "\t101000 0.0010865295870264868\n",
      "\t102000 0.0010811652332972108\n",
      "\t103000 0.001075879382856967\n",
      "\t104000 0.0010706701407286955\n",
      "\t105000 0.0010655356753420362\n",
      "\t106000 0.0010604742158320125\n",
      "\t107000 0.0010554840494768315\n",
      "\t108000 0.0010505635192666284\n",
      "\t109000 0.0010457110215955493\n",
      "\t110000 0.001040925004069189\n",
      "\t111000 0.0010362039634214879\n",
      "\t112000 0.0010315464435339213\n",
      "\t113000 0.0010269510335516139\n",
      "\t114000 0.001022416366090516\n",
      "\t115000 0.001017941115530658\n",
      "\t116000 0.0010135239963906975\n",
      "\t117000 0.0010091637617787043\n",
      "\t118000 0.001004859201916123\n",
      "\t119000 0.0010006091427293444\n"
     ]
    }
   ],
   "source": [
    "hidden_weights, output_weights, number_of_epochs = Learning(1e-3, X, Y, 3, 9e-1)"
   ]
  },
  {
   "cell_type": "code",
   "execution_count": 9,
   "id": "48fc1e37",
   "metadata": {
    "scrolled": false
   },
   "outputs": [
    {
     "name": "stdout",
     "output_type": "stream",
     "text": [
      "На обучение было потрачено 119146 эпох.\n",
      "\t[0.00251205 0.00081542] [0 0]\n",
      "\t[0.00134494 0.99906847] [0 1]\n",
      "\t[0.99993937 0.08561679] [1 0]\n",
      "\t[0.99948766 0.99852415] [1 1]\n"
     ]
    }
   ],
   "source": [
    "print(f\"На обучение было потрачено {number_of_epochs} эпох.\")\n",
    "for i in range(letter1.shape[0]):\n",
    "    #print(f'\\t{[round(i) for i in predict(letter3[i], hidden_weights, output_weights)]} {answers[i]}')\n",
    "    print(f'\\t{predict(letter5[i], hidden_weights, output_weights)} {answers[i]}')"
   ]
  },
  {
   "cell_type": "code",
   "execution_count": 10,
   "id": "778a1834",
   "metadata": {
    "scrolled": true
   },
   "outputs": [
    {
     "name": "stdout",
     "output_type": "stream",
     "text": [
      "На обучение было потрачено 119146 эпох.\n",
      "\t[0.0016181  0.00054237] [0 0]\n",
      "\t[0.00226838 0.99955152] [0 1]\n",
      "\t[0.99888    0.00822627] [1 0]\n",
      "\t[0.99935587 0.99942528] [1 1]\n"
     ]
    }
   ],
   "source": [
    "print(f\"На обучение было потрачено {number_of_epochs} эпох.\")\n",
    "for i in range(letter1.shape[0]):\n",
    "    #print(f'\\t{[round(i) for i in predict(letter3[i], hidden_weights, output_weights)]} {answers[i]}')\n",
    "    print(f'\\t{predict(letter4[i], hidden_weights, output_weights)} {answers[i]}')"
   ]
  },
  {
   "cell_type": "code",
   "execution_count": null,
   "id": "2c400e6d",
   "metadata": {},
   "outputs": [],
   "source": []
  }
 ],
 "metadata": {
  "kernelspec": {
   "display_name": "Python 3 (ipykernel)",
   "language": "python",
   "name": "python3"
  },
  "language_info": {
   "codemirror_mode": {
    "name": "ipython",
    "version": 3
   },
   "file_extension": ".py",
   "mimetype": "text/x-python",
   "name": "python",
   "nbconvert_exporter": "python",
   "pygments_lexer": "ipython3",
   "version": "3.11.4"
  }
 },
 "nbformat": 4,
 "nbformat_minor": 5
}
