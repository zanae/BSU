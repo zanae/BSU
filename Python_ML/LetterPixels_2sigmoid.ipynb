{
 "cells": [
  {
   "cell_type": "markdown",
   "id": "b8bb664a",
   "metadata": {},
   "source": [
    "# Распознавание букв Backpropagation\n",
    "Чуть изменённая задача из книги Роберта Каллана 2001 гг. \"Основные концепции нейронных сетей\". стр. 63 \"Классификация символов\"\n",
    "\n",
    "Реализация в Numpy (успех зависит от нач иниц)\n",
    "\n",
    "Классификация символов A, B, C, D. Чёрно-белые изображения букв 8 на 8, по 5 картинок на букву (обучение - по 4, 2 тестовые)\n",
    "\n",
    "Сойдёт использование 2-х сигмоид и выходные векторы как 00 для A, 01 для B и т.д. "
   ]
  },
  {
   "attachments": {
    "a0.png": {
     "image/png": "[encoded data removed]"
    },
    "a1.png": {
     "image/png": "[encoded data removed]"
    },
    "a2.png": {
     "image/png": "[encoded data removed]"
    },
    "a3.png": {
     "image/png": "[encoded data removed]"
    },
    "a4.png": {
     "image/png": "[encoded data removed]"
    },
    "a5.png": {
     "image/png": "[encoded data removed]"
    },
    "b0.png": {
     "image/png": "[encoded data removed]"
    },
    "b1.png": {
     "image/png": "[encoded data removed]"
    },
    "b2.png": {
     "image/png": "[encoded data removed]"
    },
    "b3.png": {
     "image/png": "[encoded data removed]"
    },
    "b4.png": {
     "image/png": "[encoded data removed]"
    },
    "b5.png": {
     "image/png": "[encoded data removed]"
    },
    "c0.png": {
     "image/png": "[encoded data removed]"
    },
    "c1.png": {
     "image/png": "[encoded data removed]"
    },
    "c2.png": {
     "image/png": "[encoded data removed]"
    },
    "c3.png": {
     "image/png": "[encoded data removed]"
    },
    "c4.png": {
     "image/png": "[encoded data removed]"
    },
    "c5.png": {
     "image/png": "[encoded data removed]"
    },
    "d0.png": {
     "image/png": "[encoded data removed]"
    },
    "d1.png": {
     "image/png": "[encoded data removed]"
    },
    "d2.png": {
     "image/png": "[encoded data removed]"
    },
    "d3.png": {
     "image/png": "[encoded data removed]"
    },
    "d4.png": {
     "image/png": "[encoded data removed]"
    },
    "d5.png": {
     "image/png": "[encoded data removed]"
    }
   },
   "cell_type": "markdown",
   "id": "816bef55",
   "metadata": {},
   "source": [
    "![d5.png](attachment:d5.png)![d4.png](attachment:d4.png)![d3.png](attachment:d3.png)![d2.png](attachment:d2.png)![d1.png](attachment:d1.png)![d0.png](attachment:d0.png)![c5.png](attachment:c5.png)![c4.png](attachment:c4.png)![c3.png](attachment:c3.png)![c2.png](attachment:c2.png)![c1.png](attachment:c1.png)![c0.png](attachment:c0.png)![b5.png](attachment:b5.png)![b4.png](attachment:b4.png)![b3.png](attachment:b3.png)![b2.png](attachment:b2.png)![b1.png](attachment:b1.png)![b0.png](attachment:b0.png)![a5.png](attachment:a5.png)![a4.png](attachment:a4.png)![a3.png](attachment:a3.png)![a2.png](attachment:a2.png)![a1.png](attachment:a1.png)![a0.png](attachment:a0.png)"
   ]
  },
  {
   "cell_type": "code",
   "execution_count": 1,
   "id": "96ab2b39",
   "metadata": {},
   "outputs": [],
   "source": [
    "import matplotlib.pyplot as plt\n",
    "%matplotlib inline\n",
    "import numpy as np\n",
    "from PIL import Image\n",
    "path = \"D:/pseudo_data/\"\n",
    "a = []; b = []; c = []; d = []\n",
    "n_imgperl = 6\n",
    "for i in range(n_imgperl):\n",
    "    a.append(Image.open(path + f\"a{i}.png\"))\n",
    "    b.append(Image.open(path + f\"b{i}.png\"))\n",
    "    c.append(Image.open(path + f\"c{i}.png\"))\n",
    "    d.append(Image.open(path + f\"d{i}.png\"))"
   ]
  },
  {
   "cell_type": "code",
   "execution_count": 2,
   "id": "97ec81be",
   "metadata": {},
   "outputs": [],
   "source": [
    "def PixelArray(img):\n",
    "    img = np.array(img)\n",
    "    oz = np.zeros((8, 8))\n",
    "    for i in range(img.shape[0]):\n",
    "        oz[i] = [x[0] for x in img[i]]\n",
    "    oz[oz == 0] = 1\n",
    "    oz[oz > 1] = 0 # 255 - это белый, белый пусть будет 0\n",
    "    return oz"
   ]
  },
  {
   "cell_type": "code",
   "execution_count": 3,
   "id": "2b5df18a",
   "metadata": {},
   "outputs": [],
   "source": [
    "letter0 = np.array([PixelArray(a[0]), PixelArray(b[0]), PixelArray(c[0]), PixelArray(d[0])])\n",
    "letter1 = np.array([PixelArray(a[1]), PixelArray(b[1]), PixelArray(c[1]), PixelArray(d[1])])\n",
    "letter2 = np.array([PixelArray(a[2]), PixelArray(b[2]), PixelArray(c[2]), PixelArray(d[2])])\n",
    "letter3 = np.array([PixelArray(a[3]), PixelArray(b[3]), PixelArray(c[3]), PixelArray(d[3])])\n",
    "letter4 = np.array([PixelArray(a[4]), PixelArray(b[4]), PixelArray(c[4]), PixelArray(d[4])])\n",
    "letter5 = np.array([PixelArray(a[5]), PixelArray(b[5]), PixelArray(c[5]), PixelArray(d[5])])"
   ]
  },
  {
   "cell_type": "code",
   "execution_count": 4,
   "id": "ba9e5674",
   "metadata": {},
   "outputs": [],
   "source": [
    "answers = np.array([[0, 0], [0, 1], [1, 0], [1, 1]])\n",
    "#answers = np.zeros((4, 4))\n",
    "#for i in range(4):\n",
    "#    answers[i, i] = 1\n",
    "#X = np.concatenate((letter1, letter2, letter3, letter4, letter5))\n",
    "X = np.concatenate((letter0, letter1, letter2, letter3)) ; Y = np.concatenate((answers, answers, answers, answers))\n",
    "#Y = np.concatenate((answers, answers, answers, answers, answers))"
   ]
  },
  {
   "cell_type": "code",
   "execution_count": 5,
   "id": "a93d7e5b",
   "metadata": {},
   "outputs": [],
   "source": [
    "def net(x, w):\n",
    "    return np.dot(x, w)\n",
    "def sigmoid(wx):\n",
    "    return 1 / (1 + np.exp(-wx))\n",
    "def sigderiv(sig_neuron):\n",
    "    return sig_neuron * (1 - sig_neuron)"
   ]
  },
  {
   "cell_type": "code",
   "execution_count": 6,
   "id": "f5dbce18",
   "metadata": {},
   "outputs": [],
   "source": [
    "def forward_pass(x, w_hid, w_out):\n",
    "    neurons = sigmoid(net(x, w_hid))\n",
    "    output = sigmoid(net(neurons, w_out))\n",
    "    return neurons, output\n",
    "def predict(x, w_hid, w_out):\n",
    "    x = np.append(x.reshape(1, -1), [[-1]])\n",
    "    neurons = sigmoid(net(x, w_hid))\n",
    "    output = sigmoid(net(neurons, w_out))\n",
    "    return output"
   ]
  },
  {
   "cell_type": "code",
   "execution_count": 7,
   "id": "c4ec3c9f",
   "metadata": {},
   "outputs": [],
   "source": [
    "def Learning(epsilon, X, Y, num_hid, lmd):\n",
    "    inp_size = np.size(X[0]) + 1\n",
    "    out = Y[0].size\n",
    "    w_hid = np.random.uniform(-2, 2, (inp_size, num_hid))\n",
    "    #w_hid = np.zeros((inp_size, hid))\n",
    "    w_out = np.random.uniform(-2, 2, (num_hid, out))\n",
    "# обучение\n",
    "    error = np.array([float('inf'), float('inf')])\n",
    "    mean_error = float('inf')\n",
    "    epoch = 0\n",
    "    while (mean_error > epsilon):\n",
    "    #for epoch in range(10000):\n",
    "        mean_error = 0\n",
    "        for i in range(X.shape[0]):\n",
    "            x = np.append(X[i], [[-1]])\n",
    "            x = x.reshape(1, -1) #shape: 1, 64 (65 т.к. фиктивный признак 1)\n",
    "            y = Y[i]\n",
    "            neurons, output = forward_pass(x, w_hid, w_out)\n",
    "            error = y - output\n",
    "            #sigderiv 1, 2\n",
    "            delta = error * sigderiv(output) #1, 2 локальный градиент выходного нейрона\n",
    "            #print(f'delta {sigderiv(output).shape}')\n",
    "            delta2 = sigderiv(neurons) * np.dot(delta, np.transpose(w_out)) #лок град 2\n",
    "            w_out += lmd * np.dot(np.transpose(neurons), delta)\n",
    "            w_hid += lmd * np.dot(np.transpose(x), delta2) #64 8\n",
    "            #print(output, y)\n",
    "            mean_error += np.sum(abs(error))\n",
    "        mean_error /= X.shape[0] * error.size\n",
    "        epoch += 1\n",
    "        if epoch % 1000 == 0:\n",
    "            print(f'\\t{epoch} {mean_error}')\n",
    "    return w_hid, w_out, epoch"
   ]
  },
  {
   "cell_type": "code",
   "execution_count": 8,
   "id": "239a5adb",
   "metadata": {
    "scrolled": true
   },
   "outputs": [
    {
     "name": "stdout",
     "output_type": "stream",
     "text": [
      "\t1000 0.012885818807012341\n",
      "\t2000 0.00865989721866226\n",
      "\t3000 0.006861858859187533\n",
      "\t4000 0.005833865708007756\n",
      "\t5000 0.005154524223557005\n",
      "\t6000 0.004665080593819669\n",
      "\t7000 0.00429175929483834\n",
      "\t8000 0.003995289575233629\n",
      "\t9000 0.0037526828903003758\n",
      "\t10000 0.0035495031907657117\n",
      "\t11000 0.003376182463949157\n",
      "\t12000 0.0032261020976902797\n",
      "\t13000 0.0030945219584016166\n",
      "\t14000 0.0029779482300770713\n",
      "\t15000 0.0028737426481348794\n",
      "\t16000 0.002779871433841862\n",
      "\t17000 0.0026947385962845134\n",
      "\t18000 0.002617072074149469\n",
      "\t19000 0.002545844029122456\n",
      "\t20000 0.002480213827086789\n",
      "\t21000 0.002419486460604814\n",
      "\t22000 0.0023630817089172872\n",
      "\t23000 0.002310510909318392\n",
      "\t24000 0.0022613592178760216\n",
      "\t25000 0.002215271891364209\n",
      "\t26000 0.00217194355700731\n",
      "\t27000 0.0021311097311242522\n",
      "\t28000 0.002092540050696684\n",
      "\t29000 0.0020560328239309163\n",
      "\t30000 0.0020214106067533264\n",
      "\t31000 0.001988516584762747\n",
      "\t32000 0.001957211593039397\n",
      "\t33000 0.0019273716451676966\n",
      "\t34000 0.0018988858718419156\n",
      "\t35000 0.0018716547912424482\n",
      "\t36000 0.0018455888499277493\n",
      "\t37000 0.0018206071856680724\n",
      "\t38000 0.0017966365734320509\n",
      "\t39000 0.0017736105233492078\n",
      "\t40000 0.0017514685054336987\n",
      "\t41000 0.0017301552805591817\n",
      "\t42000 0.0017096203209071915\n",
      "\t43000 0.001689817306094684\n",
      "\t44000 0.0016707036835800074\n",
      "\t45000 0.0016522402838852525\n",
      "\t46000 0.0016343909827398386\n",
      "\t47000 0.0016171224035356356\n",
      "\t48000 0.0016004036545339403\n",
      "\t49000 0.0015842060961298934\n",
      "\t50000 0.0015685031341975187\n",
      "\t51000 0.0015532700361319534\n",
      "\t52000 0.0015384837667025402\n",
      "\t53000 0.0015241228412458277\n",
      "\t54000 0.0015101671940746303\n",
      "\t55000 0.0014965980602761164\n",
      "\t56000 0.0014833978693185078\n",
      "\t57000 0.0014705501490973705\n",
      "\t58000 0.0014580394392339781\n",
      "\t59000 0.0014458512125889984\n",
      "\t60000 0.001433971804088297\n",
      "\t61000 0.0014223883460689885\n",
      "\t62000 0.0014110887094526403\n",
      "\t63000 0.0014000614501339902\n",
      "\t64000 0.0013892957600490335\n",
      "\t65000 0.0013787814224461873\n",
      "\t66000 0.0013685087709415706\n",
      "\t67000 0.001358468651985826\n",
      "\t68000 0.0013486523904109747\n",
      "\t69000 0.0013390517577641634\n",
      "\t70000 0.0013296589431650008\n",
      "\t71000 0.0013204665264526785\n",
      "\t72000 0.001311467453413451\n",
      "\t73000 0.0013026550129001775\n",
      "\t74000 0.0012940228156762418\n",
      "\t75000 0.0012855647748319463\n",
      "\t76000 0.001277275087637005\n",
      "\t77000 0.0012691482187069348\n",
      "\t78000 0.0012611788843717804\n",
      "\t79000 0.001253362038147535\n",
      "\t80000 0.0012456928572190332\n",
      "\t81000 0.0012381667298527177\n",
      "\t82000 0.0012307792436639239\n",
      "\t83000 0.0012235261746718915\n",
      "\t84000 0.0012164034770796698\n",
      "\t85000 0.001209407273724026\n",
      "\t86000 0.0012025338471430608\n",
      "\t87000 0.0011957796312155329\n",
      "\t88000 0.001189141203328868\n",
      "\t89000 0.001182615277036909\n",
      "\t90000 0.0011761986951715276\n",
      "\t91000 0.0011698884233754655\n",
      "\t92000 0.001163681544025947\n",
      "\t93000 0.0011575752505222768\n",
      "\t94000 0.001151566841910758\n",
      "\t95000 0.0011456537178247586\n",
      "\t96000 0.0011398333737174735\n",
      "\t97000 0.0011341033963683104\n",
      "\t98000 0.001128461459643995\n",
      "\t99000 0.0011229053204975384\n",
      "\t100000 0.001117432815189975\n",
      "\t101000 0.0011120418557196354\n",
      "\t102000 0.0011067304264462299\n",
      "\t103000 0.00110149658089687\n",
      "\t104000 0.00109633843874284\n",
      "\t105000 0.001091254182936273\n",
      "\t106000 0.0010862420569968756\n",
      "\t107000 0.0010813003624397268\n",
      "\t108000 0.0010764274563349156\n",
      "\t109000 0.0010716217489919954\n",
      "\t110000 0.00106688170176094\n",
      "\t111000 0.0010622058249434552\n",
      "\t112000 0.001057592675807521\n",
      "\t113000 0.0010530408566997473\n",
      "\t114000 0.0010485490132494638\n",
      "\t115000 0.0010441158326596443\n",
      "\t116000 0.0010397400420794256\n",
      "\t117000 0.0010354204070539756\n",
      "\t118000 0.0010311557300474034\n",
      "\t119000 0.0010269448490341098\n",
      "\t120000 0.001022786636155686\n",
      "\t121000 0.0010186799964392956\n",
      "\t122000 0.001014623866574183\n",
      "\t123000 0.0010106172137435746\n",
      "\t124000 0.0010066590345087455\n",
      "\t125000 0.0010027483537425144\n"
     ]
    }
   ],
   "source": [
    "hidden_weights, output_weights, number_of_epochs = Learning(1e-3, X, Y, 3, 9e-1)"
   ]
  },
  {
   "cell_type": "code",
   "execution_count": 9,
   "id": "48fc1e37",
   "metadata": {
    "scrolled": false
   },
   "outputs": [
    {
     "name": "stdout",
     "output_type": "stream",
     "text": [
      "На обучение было потрачено 125711 эпох.\n",
      "\t[0.0015731  0.00141296] [0 0]\n",
      "\t[0.00139243 0.99967104] [0 1]\n",
      "\t[9.97842194e-01 3.92324120e-04] [1 0]\n",
      "\t[0.99842752 0.99821392] [1 1]\n"
     ]
    }
   ],
   "source": [
    "print(f\"На обучение было потрачено {number_of_epochs} эпох.\")\n",
    "for i in range(letter1.shape[0]):\n",
    "    #print(f'\\t{[round(i) for i in predict(letter3[i], hidden_weights, output_weights)]} {answers[i]}')\n",
    "    print(f'\\t{predict(letter5[i], hidden_weights, output_weights)} {answers[i]}')"
   ]
  },
  {
   "cell_type": "code",
   "execution_count": 10,
   "id": "778a1834",
   "metadata": {
    "scrolled": true
   },
   "outputs": [
    {
     "name": "stdout",
     "output_type": "stream",
     "text": [
      "На обучение было потрачено 125711 эпох.\n",
      "\t[0.00160036 0.00158216] [0 0]\n",
      "\t[0.001241   0.99959304] [0 1]\n",
      "\t[0.98414519 0.00153035] [1 0]\n",
      "\t[0.99851579 0.99834027] [1 1]\n"
     ]
    }
   ],
   "source": [
    "print(f\"На обучение было потрачено {number_of_epochs} эпох.\")\n",
    "for i in range(letter1.shape[0]):\n",
    "    #print(f'\\t{[round(i) for i in predict(letter3[i], hidden_weights, output_weights)]} {answers[i]}')\n",
    "    print(f'\\t{predict(letter4[i], hidden_weights, output_weights)} {answers[i]}')"
   ]
  },
  {
   "cell_type": "code",
   "execution_count": null,
   "id": "00785024",
   "metadata": {},
   "outputs": [],
   "source": []
  }
 ],
 "metadata": {
  "kernelspec": {
   "display_name": "Python 3 (ipykernel)",
   "language": "python",
   "name": "python3"
  },
  "language_info": {
   "codemirror_mode": {
    "name": "ipython",
    "version": 3
   },
   "file_extension": ".py",
   "mimetype": "text/x-python",
   "name": "python",
   "nbconvert_exporter": "python",
   "pygments_lexer": "ipython3",
   "version": "3.11.4"
  }
 },
 "nbformat": 4,
 "nbformat_minor": 5
}
