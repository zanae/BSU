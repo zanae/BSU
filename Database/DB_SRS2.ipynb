{
 "cells": [
  {
   "cell_type": "markdown",
   "id": "34f584e5",
   "metadata": {},
   "source": [
    "# СРС №2. Обслуживание простых деревьев кодом. Список соседства\n",
    "## Задание.\n",
    "1. Реализовать структуру таблиц, реализовывающую структуру для хранения деревьев «Список соседства» и позволяющую хранить данные выбранной тематики. Тематика может быть выбрана из списка предложенных (см. Предлагаемые темы) или предложена студентом.\n",
    "2. Наполнить данными реализованную структуру. Наполнение и генерация данных должны производиться с программным кодом. Таблица с деревом должна содержать не менее 150 строк, каждый узел, не являющийся листом должен иметь от 2 до 5 потомков, общая глубина дерева должна быть не менее 10.\n",
    "3. Реализовать следующие операции в виде функций программной бибилотеки с текстовым или графическим интерфейсом:\n",
    "- добавление листа;\n",
    "- удаление листа;\n",
    "- удаление поддерева;\n",
    "- перемещение листа;\n",
    "- перемещение поддерева;\n",
    "- удаление узла без поддерева;\n",
    "- перемещение узла без поддерева;\n",
    "- получение прямых потомков;\n",
    "- получение прямого родителя;\n",
    "- получение всех потомков (с сохранением иерархичности);\n",
    "- получение всех родителей (с сохранением иерархичности);"
   ]
  },
  {
   "cell_type": "code",
   "execution_count": 1,
   "id": "06f075e2",
   "metadata": {},
   "outputs": [],
   "source": [
    "import mysql.connector\n",
    "import pandas as pd\n",
    "import random \n",
    "from faker import Faker\n",
    "import pandas as pd\n",
    "from mysql.connector import connect, Error\n",
    "#import getpass\n",
    "fake = Faker('ru_RU')\n",
    "r_host = \"localhost\"\n",
    "r_user = \"root\"\n",
    "r_password = \"aryuna\"\n",
    "r_db = \"srs2\"\n",
    "connection = connect(\n",
    "    host=r_host, \n",
    "    user=r_user,\n",
    "    password=r_password,\n",
    "    database = r_db,\n",
    ")\n",
    "db_cur = connection.cursor()\n",
    "from queue import Queue"
   ]
  },
  {
   "cell_type": "code",
   "execution_count": 2,
   "id": "0a0d3e56",
   "metadata": {},
   "outputs": [],
   "source": [
    "def AddChildren(ancestors):\n",
    "    generation = []\n",
    "    while not ancestors.empty():\n",
    "        descend = random.randint(2, 5) #сколько детей будет у текущего\n",
    "        new_parent = ancestors.get()\n",
    "        for i in range(descend): #по очереди создаём\n",
    "            #print(f\"{i} по идее, какой сейчас по счёту ребенок, а {new_parent} - родитель. Детей должно быть {descend}\")\n",
    "            db_cur.execute(f'INSERT INTO AdjacencyList (name, parent_id) VALUES (\"{fake.company()}\", {new_parent})')\n",
    "            connection.commit()\n",
    "        db_cur.execute(f\"SELECT id FROM AdjacencyList WHERE parent_id = {new_parent}\")\n",
    "        generation.append(db_cur.fetchall())\n",
    "    this_gen_par = []\n",
    "    for _list in generation: #списки развернуть и сделать не список списков, а просто список\n",
    "        for x in _list:\n",
    "            this_gen_par.append(int(x[0])) # x[0] чтоб избавиться от кортежа\n",
    "    #print(f'\\t {this_gen_par}')\n",
    "    return this_gen_par\n",
    "\n",
    "def NewParents(ancestors, gen):\n",
    "#сначала достаём всё нынешнее поколение\n",
    "#потом генерим кол-во детей, которые родят\n",
    "#а потом рандомсэмплим тех, кто родит и всех их кладём в ancestors\n",
    "    chil_num = random.randint(1, len(gen)) #сначала генерим то, сколько из детей станет родителями\n",
    "    gen = random.sample(gen, chil_num) #получаем тех, кто станет родителями\n",
    "    for x in gen:\n",
    "        ancestors.put(x) #кладём в очередь"
   ]
  },
  {
   "cell_type": "code",
   "execution_count": 3,
   "id": "93a8cfc8",
   "metadata": {},
   "outputs": [],
   "source": [
    "def TreeGenerator(d):\n",
    "    ancestors = Queue() #очередь родителей\n",
    "    #создание корня, id будет 1 из-за автоинкремента\n",
    "    db_cur.execute(f'INSERT INTO AdjacencyList (name, parent_id) VALUES (\"{fake.company()}\", NULL)')\n",
    "    ancestors.put(1)\n",
    "    new_generation = AddChildren(ancestors) #получение нынешнего поколения\n",
    "    #print(ancestors.qsize()) #0 после 1-го раза - потому что в процессе добавления детей всё удалилось\n",
    "    depth = 1 #Т.к. уже случился AddChildren \n",
    "    while (depth < d):\n",
    "        NewParents(ancestors, new_generation)\n",
    "        new_generation = AddChildren(ancestors)\n",
    "        depth += 1"
   ]
  },
  {
   "cell_type": "code",
   "execution_count": 4,
   "id": "e3450097",
   "metadata": {},
   "outputs": [],
   "source": [
    "def GetParent(v):\n",
    "    db_cur.execute(f\"SELECT parent_id FROM AdjacencyList WHERE id = {v}\")\n",
    "    return db_cur.fetchone()[0]\n",
    "def GetChildren(v):\n",
    "    db_cur.execute(f\"SELECT id FROM AdjacencyList WHERE parent_id = {v}\")\n",
    "    children = [x[0] for x in db_cur.fetchall()]\n",
    "    return children\n",
    "def GetAllParents(v):\n",
    "    db_cur.execute(f\"\"\"WITH RECURSIVE parents AS (\n",
    "    SELECT id, name, parent_id FROM adjacencylist where id = {v}\n",
    "    UNION ALL \n",
    "    SELECT aj.id, aj.name, aj.parent_id FROM adjacencylist aj JOIN parents ON aj.id = parents.parent_id\n",
    "    )\n",
    "    SELECT * FROM parents group by id\"\"\")\n",
    "    for i in db_cur:\n",
    "        print(i)\n",
    "def GetAllChildren(v):\n",
    "    db_cur.execute(f\"\"\"WITH recursive children as (\n",
    "    SELECT id, name, parent_id FROM AdjacencyList where parent_id = {v}\n",
    "    union all\n",
    "    select aj.id, aj.name, par.id FROM AdjacencyList aj JOIN children par ON par.id = aj.parent_id\n",
    "    )\n",
    "    SELECT * from children group by id\n",
    "    \"\"\")\n",
    "    for i in db_cur:\n",
    "        print(i)"
   ]
  },
  {
   "cell_type": "code",
   "execution_count": 5,
   "id": "73de8592",
   "metadata": {
    "scrolled": true
   },
   "outputs": [],
   "source": [
    "def AddLeaf(title, parent):\n",
    "    db_cur.execute(f'INSERT INTO AdjacencyList (name, parent_id) VALUES (\"{title}\", {parent})')\n",
    "    connection.commit()\n",
    "def DelSubTreeOrLeaf(_id):\n",
    "    db_cur.execute(f\"DELETE FROM AdjacencyList WHERE id = {_id}\") #удаление с помощью внешнего ключа\n",
    "    connection.commit()\n",
    "def MoveSubTreeOrLeaf(v, change):\n",
    "    db_cur.execute(f\"UPDATE AdjacencyList SET parent_id = {change} WHERE id = {v}\")\n",
    "    connection.commit()\n",
    "def DelNodeWithoutTree(node):\n",
    "    x = GetParent(node)\n",
    "    db_cur.execute(f\"\"\"UPDATE adjacencylist a1 JOIN adjacencylist a2 ON a2.id = {node}\n",
    "SET a1.parent_id = a2.parent_id WHERE a1.parent_id = {node}\"\"\")\n",
    "    connection.commit()\n",
    "    #в лекции было с подзапросом select, но нельзя обновить таблицу, в которой происходит чтение\n",
    "    db_cur.execute(f\"DELETE FROM AdjacencyList WHERE id = {node}\")\n",
    "    connection.commit()\n",
    "def MoveNodeWithoutTree(node, change):\n",
    "#получаем родителя, потом детей, которых переставляем к родителю\n",
    "    db_cur.execute(f\"\"\"UPDATE adjacencylist a1 JOIN adjacencylist a2 ON a2.id = {node}\n",
    "SET a1.parent_id = a2.parent_id WHERE a1.parent_id = {node}\"\"\")\n",
    "    connection.commit()\n",
    "    MoveSubTreeOrLeaf(node, change)"
   ]
  },
  {
   "cell_type": "code",
   "execution_count": 6,
   "id": "0ab58e8d",
   "metadata": {},
   "outputs": [],
   "source": [
    "def GetDepth():\n",
    "    db_cur.execute(\"\"\"WITH RECURSIVE parents AS ( \n",
    "    SELECT id, parent_id FROM adjacencylist\n",
    "    UNION ALL \n",
    "    SELECT parents.id, aj.parent_id FROM adjacencylist aj JOIN parents ON aj.id = parents.parent_id\n",
    "    AND NOT ISNULL(aj.parent_id)\n",
    "    )\n",
    "    SELECT MAX(depth) FROM (SELECT count(id) as depth FROM parents group by id) d;\n",
    "    \"\"\")\n",
    "    return db_cur.fetchone()[0]\n",
    "def CheckChildren():\n",
    "    db_cur.execute(\"\"\"WITH recursive children as (\n",
    "    SELECT id, name, parent_id FROM AdjacencyList where parent_id = 1\n",
    "    union all\n",
    "    select aj.id, aj.name, par.id FROM AdjacencyList aj JOIN children par ON par.id = aj.parent_id\n",
    "    )\n",
    "    select parent_id, count(id) from children group by parent_id\n",
    "    \"\"\")\n",
    "    count_children = [x[1] for x in db_cur.fetchall()]\n",
    "    ma = max(count_children)\n",
    "    mi = min(count_children)\n",
    "    mess = 0 if mi >= 2 and ma <= 5 else f'...КОД КРАСНЫЙ!!! ГДЕ-ТО ДЕТЕЙ {mi}, ГДЕ-ТО {ma} - ЧТО-ТО ПОШЛО НЕ ТАК!!!'\n",
    "    if isinstance(mess, str):\n",
    "        print(mess)\n",
    "        print('Код принят. Сворачиваем работу.')\n",
    "        return False\n",
    "    return True\n",
    "def CheckWithJoins():\n",
    "    print(\"МИЛЛИОН МИЛЛИОН ДЖОИНОООВ\")\n",
    "    db_cur.execute(\"\"\" SELECT distinct D10.parent_id, d9.parent_id, d8.parent_id, d7.parent_id, d6.parent_id, d5.parent_id, d4.parent_id,\n",
    " d3.parent_id, d2.parent_id, d1.parent_id, d0.id\n",
    "-- SELECT distinct d10.parent_id\n",
    "from adjacencylist d1 JOIN adjacencylist D0 ON D0.id = D1.parent_id AND ISNULL(D0.parent_id)\n",
    "JOIN adjacencylist d2 ON d1.id = d2.parent_id JOIN adjacencylist D3 ON D2.id = d3.parent_id \n",
    "JOIN adjacencylist d4 ON D3.id = d4.parent_id JOIN adjacencylist d5 ON D4.id = d5.parent_id \n",
    "JOIN adjacencylist d6 ON D5.id = d6.parent_id JOIN adjacencylist d7 ON D6.id = d7.parent_id \n",
    "JOIN adjacencylist d8 ON D7.id = d8.parent_id JOIN adjacencylist d9 ON D8.id = d9.parent_id \n",
    "JOIN adjacencylist d10 ON D9.id = d10.parent_id\n",
    "ORDER BY 1, 2, 3, 4, 5, 6, 7, 8, 9, 10;\"\"\")\n",
    "    for i in db_cur:\n",
    "        print(i)"
   ]
  },
  {
   "cell_type": "code",
   "execution_count": 7,
   "id": "2e8d0c29",
   "metadata": {
    "scrolled": false
   },
   "outputs": [],
   "source": [
    "drop = (\"DROP TABLE IF EXISTS AdjacencyList\")\n",
    "adj = (\"\"\"CREATE TABLE AdjacencyList(\n",
    " id INT PRIMARY KEY AUTO_INCREMENT,\n",
    " name VARCHAR(100),\n",
    " parent_id INT,\n",
    " FOREIGN KEY(parent_id) REFERENCES AdjacencyList(id) ON DELETE CASCADE\n",
    ")\n",
    "\"\"\") \n",
    "db_cur.execute(drop)\n",
    "db_cur.execute(adj)\n",
    "connection.commit()\n",
    "d = random.randint(10, 15)\n",
    "TreeGenerator(d)"
   ]
  },
  {
   "cell_type": "code",
   "execution_count": 8,
   "id": "9b71b2e7",
   "metadata": {},
   "outputs": [],
   "source": [
    "def FitTree(ne):\n",
    "    db_cur.execute(\"\"\"WITH recursive children as (\n",
    "    SELECT id, name, parent_id FROM AdjacencyList WHERE parent_id = 1\n",
    "    union all\n",
    "    select aj.id, aj.name, par.id FROM AdjacencyList aj JOIN children par ON par.id = aj.parent_id\n",
    "    )\n",
    "    select parent_id, count(id) from children group by parent_id\n",
    "    \"\"\")\n",
    "    parents = [[x[0], x[1]] for x in db_cur.fetchall()]\n",
    "    for i in range(ne + int(ne/2)):\n",
    "        if random.choice(parents)[1] < 5:\n",
    "            db_cur.execute(f'INSERT INTO AdjacencyList (name, parent_id) VALUES (\"{fake.company()}\", {parents[i][0]})')\n",
    "            connection.commit()\n",
    "def Checking():\n",
    "    db_cur.execute(\"SELECT COUNT(id) FROM adjacencylist\")\n",
    "    n = db_cur.fetchone()[0]\n",
    "    print(f\"Количество элементов - {n}\")\n",
    "    if n < 150:\n",
    "        FitTree(150 - n)\n",
    "    print(f\"NOW Количество элементов - {n}\")\n",
    "    print(f\"Глубина дерева - {GetDepth()}\")\n",
    "    print(\"\"\"Если где-то детей будет не доставать или их будет слишком много, выведется сообщение и программа остановится. \n",
    "    В противном случае вас ожидает гордое молчание.\"\"\")\n",
    "    return CheckChildren()\n",
    "    #CheckWithJoins()"
   ]
  },
  {
   "cell_type": "code",
   "execution_count": 9,
   "id": "98303143",
   "metadata": {},
   "outputs": [],
   "source": [
    "def Interface():\n",
    "    tab = ''\n",
    "    a = input(\"Введите вершину для махинаций. Если понадобится что-то ещё, введёте потом. \")\n",
    "    while tab != 'Всё':\n",
    "        db_cur.execute(f\"SELECT id FROM adjacencylist where id = {a}\")\n",
    "        check = db_cur.fetchone()\n",
    "        if check is None:\n",
    "            a = input(\"Этой вершины нет, давай по новой: \")\n",
    "            continue\n",
    "        tab = input(\"Введите число от 1 до 9. Или 0: \")\n",
    "        if tab == '1':\n",
    "            print(f\"Родитель вершины {a}: {GetParent(a)}\")\n",
    "        elif tab == '2':\n",
    "            print(f\"Прямые потомки вершины {a}: {GetChildren(a)}\")\n",
    "        elif tab == '3':\n",
    "            name = input(f\"В вершину {a} добавляется лист. Введите его имя: \")\n",
    "            AddLeaf(name, a)\n",
    "        elif tab == '4':\n",
    "            print(f'Удаляется вершина {a} (с поддеревом, если оно есть). ')\n",
    "            DelSubTreeOrLeaf(a)\n",
    "        elif tab == '5':\n",
    "            new = input(f\"Куда переместить вершину {a} (с поддеревом, если оно есть)? \")\n",
    "            MoveSubTreeOrLeaf(a, new)\n",
    "        elif tab == '6':\n",
    "            print(f'Удаляется вершина {a} (без поддерева). ')\n",
    "            DelNodeWithoutTree(a)\n",
    "        elif tab == '7':\n",
    "            new = input(f\"Куда переместить вершину {a} (без поддерева)? \")\n",
    "            MoveNodeWithoutTree(a, new)\n",
    "        elif tab == '8':\n",
    "            print(f\"Получение ВСЕХ РОДИТЕЛЕЙ до {a}!!! \")\n",
    "            GetAllParents(a)\n",
    "        elif tab == '9':\n",
    "            print(f\"Получение ВСЕХ ПОТОМКОВ {a}!!! \")\n",
    "            GetAllChildren(a)\n",
    "        elif tab == '0':\n",
    "            a = input(\"Новая вершина для махинаций: \")\n",
    "        elif tab == 'Проверка':\n",
    "            if Checking() is not True:\n",
    "                break\n",
    "            #CheckWithJoins()\n",
    "        elif tab == \"Всё\":\n",
    "            print(\"Oк. \")\n",
    "        else:\n",
    "            print(\"Вы ввели что-то не то... \")\n",
    "    depth = 0\n",
    "    print(\"До свидания.\")"
   ]
  },
  {
   "cell_type": "markdown",
   "id": "5e2f114b",
   "metadata": {},
   "source": [
    "# ы\n",
    "    1 - прямой родитель\n",
    "    2 - прямые потомки\n",
    "    3 - добавление листа\n",
    "    4 - удаление листа/поддерева\n",
    "    5 - перемещение листа/поддерева\n",
    "    6 - удаление узла без поддерева\n",
    "    7 - перемещение узла без поддерева\n",
    "    8 - получение всех потомков (с сохранением иерархичности)\n",
    "    9 - получение всех родителей (с сохранением иерархичности)\n",
    "    0 - выбор другой вершины"
   ]
  },
  {
   "cell_type": "code",
   "execution_count": null,
   "id": "3e350896",
   "metadata": {
    "scrolled": false
   },
   "outputs": [],
   "source": [
    "Interface()"
   ]
  },
  {
   "cell_type": "markdown",
   "id": "f9267778",
   "metadata": {},
   "source": [
    "def DelSubTree(v): (Т_Т)\n",
    "    children = GetChildren(v)\n",
    "    for i in children:\n",
    "        DelSubTree(i)\n",
    "    db_cur.execute(f\"DELETE FROM AdjacencyList WHERE id = {v}\")\n",
    "    # удаление с помощью внешнего ключа\n",
    "    connection.commit()"
   ]
  },
  {
   "cell_type": "markdown",
   "id": "a0760561",
   "metadata": {},
   "source": [
    "depth = 0\n",
    "def Depth(last):\n",
    "    global depth\n",
    "    t = GetParent(last)\n",
    "    if GetParent(t):\n",
    "        depth += 1\n",
    "        Depth(t)\n",
    "    return depth"
   ]
  },
  {
   "cell_type": "markdown",
   "id": "81946dc5",
   "metadata": {},
   "source": [
    "def Depth(last, depth):\n",
    "    t = GetParent(last)\n",
    "    if GetParent(t):\n",
    "        depth += 1\n",
    "        Depth(t, depth)\n",
    "    print(depth)\n",
    "    return depth"
   ]
  },
  {
   "cell_type": "code",
   "execution_count": 10,
   "id": "a6cf14f1",
   "metadata": {},
   "outputs": [
    {
     "name": "stdout",
     "output_type": "stream",
     "text": [
      "Количество элементов - 858\n",
      "NOW Количество элементов - 858\n",
      "Глубина дерева - 15\n",
      "Если где-то детей будет не доставать или их будет слишком много, выведется сообщение и программа остановится. \n",
      "    В противном случае вас ожидает гордое молчание.\n"
     ]
    },
    {
     "data": {
      "text/plain": [
       "True"
      ]
     },
     "execution_count": 10,
     "metadata": {},
     "output_type": "execute_result"
    }
   ],
   "source": [
    "Checking()"
   ]
  },
  {
   "cell_type": "code",
   "execution_count": null,
   "id": "6bed4aee",
   "metadata": {},
   "outputs": [],
   "source": [
    "#определение понятия через это самое понятие\n"
   ]
  },
  {
   "cell_type": "markdown",
   "id": "3ab60978",
   "metadata": {},
   "source": [
    "- РЕКУРСИВНЫЙ ЗАПРОС ГЛУБИНЫ ded inside\n",
    "- INNER JOIN-Ы КУЧИ-КУЧИ, ЫЫЫЫ (Т-Т) - ВАРИАНТ В ЛОБ\n",
    "- ВАРИАНТ В ЛОБ - ТУПО ПРОЦЕДУРА С ПОЛУЧЕНИЕМ И СЧЁТОМ, УРАААА\n",
    "- хранимая процедура Т_Т (whilы, счётчик на глубину)"
   ]
  }
 ],
 "metadata": {
  "kernelspec": {
   "display_name": "Python 3 (ipykernel)",
   "language": "python",
   "name": "python3"
  },
  "language_info": {
   "codemirror_mode": {
    "name": "ipython",
    "version": 3
   },
   "file_extension": ".py",
   "mimetype": "text/x-python",
   "name": "python",
   "nbconvert_exporter": "python",
   "pygments_lexer": "ipython3",
   "version": "3.10.9"
  }
 },
 "nbformat": 4,
 "nbformat_minor": 5
}
