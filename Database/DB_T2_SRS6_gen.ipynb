{
 "cells": [
  {
   "cell_type": "code",
   "execution_count": 13,
   "id": "826dc4b8",
   "metadata": {},
   "outputs": [],
   "source": [
    "import mysql.connector\n",
    "import pandas as pd\n",
    "import random \n",
    "import pymongo\n",
    "import datetime\n",
    "from faker import Faker\n",
    "from datetime import datetime\n",
    "from datetime import date\n",
    "fake = Faker('ru_RU')\n",
    "m_host = \"mongodb://localhost:27017/\"\n",
    "r_db = \"sp\"\n",
    "mong = pymongo.MongoClient(m_host)\n",
    "mydb = mong[r_db]\n",
    "stuff = mydb['stuff']\n",
    "pos = mydb['pos']\n",
    "users = mydb['users']\n",
    "history = mydb['history']\n",
    "archive = mydb['archive']"
   ]
  },
  {
   "cell_type": "markdown",
   "id": "f1bac1ff",
   "metadata": {},
   "source": [
    "генерация для 6-й лабы"
   ]
  },
  {
   "cell_type": "code",
   "execution_count": 14,
   "id": "fc832002",
   "metadata": {},
   "outputs": [
    {
     "data": {
      "text/plain": [
       "datetime.datetime(2023, 6, 28, 8, 56, 17)"
      ]
     },
     "execution_count": 14,
     "metadata": {},
     "output_type": "execute_result"
    }
   ],
   "source": [
    "datetime.strptime(f'{date.today()} {datetime.now().time().replace(microsecond=0)}', '%Y-%m-%d %H:%M:%S')"
   ]
  },
  {
   "cell_type": "code",
   "execution_count": 15,
   "id": "2b741cdb",
   "metadata": {},
   "outputs": [
    {
     "name": "stdout",
     "output_type": "stream",
     "text": [
      "2020-12-08 08:22:30\n"
     ]
    }
   ],
   "source": [
    "from random import randrange\n",
    "from datetime import timedelta\n",
    "\n",
    "def random_date(start):\n",
    "    start = datetime.strptime(f'{start}', '%Y-%m-%d %H:%M:%S')\n",
    "    today = datetime.strptime(f'{date.today()} {datetime.now().time().replace(microsecond=0)}', '%Y-%m-%d %H:%M:%S')\n",
    "    delta = today - start\n",
    "    int_delta = (delta.days * 24 * 60 * 60) + delta.seconds\n",
    "    random_second = randrange(int_delta)\n",
    "    return start + timedelta(seconds=random_second)\n",
    "d1 = datetime.strptime(f'{hire_date[0]}', '%Y-%m-%d %H:%M:%S')\n",
    "d2 = datetime.strptime(f'{date.today()} {datetime.now().time().replace(microsecond=0)}', '%Y-%m-%d %H:%M:%S')\n",
    "\n",
    "print(random_date(hire_date[0]))"
   ]
  },
  {
   "cell_type": "code",
   "execution_count": 16,
   "id": "561ab1a7",
   "metadata": {},
   "outputs": [],
   "source": [
    "n_pos = random.randint(8, 15);position_ids = list(range(n_pos))\n",
    "p = random.sample(position_ids, random.randint(1, 3))\n",
    "t = []\n",
    "for i in range(len(p)):\n",
    "    pd = dict()\n",
    "    pd['pos_id'] = p[i],\n",
    "    pd['appointment_date'] = 'd'\n",
    "    t.append(pd)"
   ]
  },
  {
   "cell_type": "code",
   "execution_count": 17,
   "id": "e1f59724",
   "metadata": {},
   "outputs": [
    {
     "data": {
      "text/plain": [
       "[{'pos_id': (6,), 'appointment_date': 'd'}]"
      ]
     },
     "execution_count": 17,
     "metadata": {},
     "output_type": "execute_result"
    }
   ],
   "source": [
    "t"
   ]
  },
  {
   "cell_type": "code",
   "execution_count": 18,
   "id": "1b5b8fb1",
   "metadata": {},
   "outputs": [],
   "source": [
    "stuff.drop() \n",
    "pos.drop() \n",
    "users.drop() \n",
    "stuff = mydb['stuff']\n",
    "pos = mydb['pos']\n",
    "users = mydb['users']\n",
    "stuff_num = random.randint(20, 100)\n",
    "dismissed = random.sample(range(stuff_num), int(stuff_num/4)) #четверть уволена, какой кошмар\n",
    "hire_date = []\n",
    "dismiss_date = []\n",
    "n_pos = random.randint(8, 15)\n",
    "position_ids = list(range(n_pos))\n",
    "def FillPos():\n",
    "    for i in range(n_pos):\n",
    "        pos.insert_one({'_id' : i, 'title' : f'{fake.unique.job()}'})\n",
    "        position_ids.append(i)\n",
    "    fake.unique.clear()\n",
    "def FillStuff(dismissed, hire_date, dismiss_date):\n",
    "    for i in range(stuff_num):\n",
    "        hire_date.append(f\"\"\"{fake.date_between(start_date = '-5yr', end_date = '-1yr')} {datetime.now().time().replace(microsecond=0)}\"\"\")\n",
    "        d = dict()\n",
    "        d = {'_id' : i, 'family' : f'{fake.last_name()}', 'name' : f'{fake.first_name()}', \n",
    "'patronymic' : f'{fake.middle_name()}', 'salary' : random.randint(15, 100), \n",
    "'hire_date' : f'{hire_date[i]}', 'position_id' : random.choice(position_ids) }\n",
    "        #print(d)\n",
    "        stuff.insert_one(d)\n",
    "    for i in dismissed:\n",
    "        dismiss_date.append(f'{random_date(hire_date[i])}')\n",
    "        stuff.update_one({'_id' : dismissed.index(i)}, {'$set' : {'dissmiss_date' : f'{dismiss_date[dismissed.index(i)]}'}})\n",
    "def FillUser(dismissed, hire_date, dismiss_date):\n",
    "    user_ids = range(stuff_num)\n",
    "    fake = Faker('en')\n",
    "    for i in user_ids:\n",
    "        d = dict()\n",
    "        d = {'_id' : i, 'login' : f'{fake.unique.last_name()}', 'password' : f'{fake.unique.first_name()}', \n",
    "'last_login' : f'{datetime.now().replace(microsecond=0)}', 'is_active' : True}\n",
    "        #print(d)\n",
    "        users.insert_one(d)\n",
    "        if i in dismissed:\n",
    "            stuff.update_one({'_id' : i}, {'$set' : {'last_login' : f'{dismiss_date[dismissed.index(i)]}', 'is_active' : False}})\n",
    "    fake.unique.clear()\n",
    "    fake = Faker('ru_RU')\n",
    "    \n",
    "def FillHistory(dismissed, hire_date, dismiss_date):\n",
    "    user_ids = range(stuff_num)\n",
    "    position_ids = range(n_pos)\n",
    "    for i in user_ids: #мб когда-нибудь поправлю даты\n",
    "        d = dict()\n",
    "        p = random.sample(position_ids, random.randint(1, 3))\n",
    "        t = []\n",
    "        for i in range(len(p)):\n",
    "            pd = dict()\n",
    "            pd['pos_id'] = p[i],\n",
    "            pd['appointment_date'] = 'd'\n",
    "            t.append(pd)\n",
    "        d = {'stuff_id' : i, 'position(s)' : t }\n",
    "        history.insert_one(d)\n",
    "def FillArchive(dismissed, hire_date, dismiss_date):\n",
    "    user_ids = range(stuff_num)\n",
    "    position_ids = range(n_pos)\n",
    "    for i in user_ids: #мб когда-нибудь поправлю даты\n",
    "        d = dict()\n",
    "        p = random.sample(position_ids, random.randint(1, 3))\n",
    "        t = []\n",
    "        for i in range(len(p)):\n",
    "            pd = dict()\n",
    "            pd['pos_id'] = p[i],\n",
    "            pd['appointment_date'] = random_date(hire_date[0])\n",
    "            pd['created_at'] = random_date(dismiss_date[0])\n",
    "        d = {'stuff_id' : i, 'position(s)' : t }\n",
    "        archive.insert_one(d)"
   ]
  },
  {
   "cell_type": "code",
   "execution_count": 19,
   "id": "b7db2f06",
   "metadata": {},
   "outputs": [],
   "source": [
    "FillPos()\n",
    "FillStuff(dismissed, hire_date, dismiss_date)\n",
    "FillUser(dismissed, hire_date, dismiss_date)\n",
    "FillHistory(dismissed, hire_date, dismiss_date)\n",
    "FillArchive(dismissed, hire_date, dismiss_date)"
   ]
  },
  {
   "cell_type": "code",
   "execution_count": null,
   "id": "22636fcc",
   "metadata": {},
   "outputs": [],
   "source": [
    "type(date.today())"
   ]
  },
  {
   "cell_type": "code",
   "execution_count": null,
   "id": "9fa76c97",
   "metadata": {},
   "outputs": [],
   "source": [
    "print(datetime.now().time().replace(microsecond=0) - relativedelta(months=-1))"
   ]
  },
  {
   "cell_type": "code",
   "execution_count": null,
   "id": "5e539625",
   "metadata": {},
   "outputs": [],
   "source": []
  }
 ],
 "metadata": {
  "kernelspec": {
   "display_name": "Python 3 (ipykernel)",
   "language": "python",
   "name": "python3"
  },
  "language_info": {
   "codemirror_mode": {
    "name": "ipython",
    "version": 3
   },
   "file_extension": ".py",
   "mimetype": "text/x-python",
   "name": "python",
   "nbconvert_exporter": "python",
   "pygments_lexer": "ipython3",
   "version": "3.10.9"
  }
 },
 "nbformat": 4,
 "nbformat_minor": 5
}
