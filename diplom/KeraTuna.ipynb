{
  "nbformat": 4,
  "nbformat_minor": 0,
  "metadata": {
    "colab": {
      "provenance": [],
      "collapsed_sections": [
        "fDCexxiYFbjg",
        "NYG1TvKcFS8z",
        "_EpUxQ3w45Ce"
      ]
    },
    "kernelspec": {
      "name": "python3",
      "display_name": "Python 3"
    },
    "language_info": {
      "name": "python"
    }
  },
  "cells": [
    {
      "cell_type": "markdown",
      "source": [
        "Тюнинг параметров моделей с помощью keras tuner"
      ],
      "metadata": {
        "id": "m3SZAo7SmEfV"
      }
    },
    {
      "cell_type": "markdown",
      "source": [
        "# НА 18 ДИАГНОЗАХ"
      ],
      "metadata": {
        "id": "nnz0GfMLO7tg"
      }
    },
    {
      "cell_type": "code",
      "source": [
        "!pip install keras-tuner -q"
      ],
      "metadata": {
        "id": "zJyvRMSFPkDZ",
        "colab": {
          "base_uri": "https://localhost:8080/"
        },
        "outputId": "b71e188e-8791-48cf-b5aa-f9f1420088b0"
      },
      "execution_count": null,
      "outputs": [
        {
          "output_type": "stream",
          "name": "stdout",
          "text": [
            "\u001b[?25l     \u001b[90m━━━━━━━━━━━━━━━━━━━━━━━━━━━━━━━━━━━━━━━━\u001b[0m \u001b[32m0.0/129.1 kB\u001b[0m \u001b[31m?\u001b[0m eta \u001b[36m-:--:--\u001b[0m\r\u001b[2K     \u001b[91m━━━━━━━━━━━━━━━\u001b[0m\u001b[91m╸\u001b[0m\u001b[90m━━━━━━━━━━━━━━━━━━━━━━━━\u001b[0m \u001b[32m51.2/129.1 kB\u001b[0m \u001b[31m1.4 MB/s\u001b[0m eta \u001b[36m0:00:01\u001b[0m\r\u001b[2K     \u001b[90m━━━━━━━━━━━━━━━━━━━━━━━━━━━━━━━━━━━━━━━━\u001b[0m \u001b[32m129.1/129.1 kB\u001b[0m \u001b[31m2.1 MB/s\u001b[0m eta \u001b[36m0:00:00\u001b[0m\n",
            "\u001b[?25h"
          ]
        }
      ]
    },
    {
      "cell_type": "code",
      "source": [
        "!pip install scikit-multilearn"
      ],
      "metadata": {
        "colab": {
          "base_uri": "https://localhost:8080/"
        },
        "id": "uWLR2gKW1Gci",
        "outputId": "30671cff-8fc4-45a9-aa3a-0c4fb470e599"
      },
      "execution_count": null,
      "outputs": [
        {
          "output_type": "stream",
          "name": "stdout",
          "text": [
            "Collecting scikit-multilearn\n",
            "  Downloading scikit_multilearn-0.2.0-py3-none-any.whl (89 kB)\n",
            "\u001b[?25l     \u001b[90m━━━━━━━━━━━━━━━━━━━━━━━━━━━━━━━━━━━━━━━━\u001b[0m \u001b[32m0.0/89.4 kB\u001b[0m \u001b[31m?\u001b[0m eta \u001b[36m-:--:--\u001b[0m\r\u001b[2K     \u001b[91m━━━━━━━━━━━━━━━━━━━━━━━━━━━━━━━━━━━━\u001b[0m\u001b[91m╸\u001b[0m\u001b[90m━━━\u001b[0m \u001b[32m81.9/89.4 kB\u001b[0m \u001b[31m2.2 MB/s\u001b[0m eta \u001b[36m0:00:01\u001b[0m\r\u001b[2K     \u001b[90m━━━━━━━━━━━━━━━━━━━━━━━━━━━━━━━━━━━━━━━━\u001b[0m \u001b[32m89.4/89.4 kB\u001b[0m \u001b[31m1.8 MB/s\u001b[0m eta \u001b[36m0:00:00\u001b[0m\n",
            "\u001b[?25hInstalling collected packages: scikit-multilearn\n",
            "Successfully installed scikit-multilearn-0.2.0\n"
          ]
        }
      ]
    },
    {
      "cell_type": "code",
      "execution_count": null,
      "metadata": {
        "id": "qWwTL8UeOfDX"
      },
      "outputs": [],
      "source": [
        "from tensorflow import keras\n",
        "import tensorflow as tf\n",
        "import numpy as np\n",
        "import matplotlib.pyplot as plt\n",
        "import pandas as pd\n",
        "import keras_tuner as kt\n",
        "from sklearn import preprocessing"
      ]
    },
    {
      "cell_type": "code",
      "source": [
        "from google.colab import drive\n",
        "drive.mount('/content/drive/')"
      ],
      "metadata": {
        "colab": {
          "base_uri": "https://localhost:8080/"
        },
        "id": "z9xUJqY6Phv9",
        "outputId": "2c0c46df-9e29-45f7-baf4-9c9d542b8823"
      },
      "execution_count": null,
      "outputs": [
        {
          "output_type": "stream",
          "name": "stdout",
          "text": [
            "Drive already mounted at /content/drive/; to attempt to forcibly remount, call drive.mount(\"/content/drive/\", force_remount=True).\n"
          ]
        }
      ]
    },
    {
      "cell_type": "code",
      "source": [
        "diplo = '/content/drive/MyDrive/Colab Notebooks/диплом пробую тут/'"
      ],
      "metadata": {
        "id": "MNtg30r8Qk2H"
      },
      "execution_count": null,
      "outputs": []
    },
    {
      "cell_type": "code",
      "source": [
        "dataKNN = pd.read_excel('dataKNN18.xlsx')\n",
        "mice_blood = pd.read_excel('mice_blood18.xlsx')"
      ],
      "metadata": {
        "id": "zEg_q456EHZS"
      },
      "execution_count": null,
      "outputs": []
    },
    {
      "cell_type": "code",
      "source": [
        "def diagPreprocess(TARGET: pd.Series):\n",
        "    TARGET = TARGET.str.replace(';+', ';', regex=True)\n",
        "    TARGET = TARGET.str.replace(';$', '', regex=True)\n",
        "    TARGET = TARGET.str.split(';')\n",
        "    return TARGET"
      ],
      "metadata": {
        "id": "q1UQ-ykb0sp8"
      },
      "execution_count": null,
      "outputs": []
    },
    {
      "cell_type": "code",
      "source": [
        "dataKNN['diag'] = diagPreprocess(dataKNN['diag'])\n",
        "mice_blood['diag'] = diagPreprocess(mice_blood['diag'])"
      ],
      "metadata": {
        "id": "wd__8keP5e3W"
      },
      "execution_count": null,
      "outputs": []
    },
    {
      "cell_type": "code",
      "source": [
        "def MakeY(Y_col):\n",
        "  mlb = preprocessing.MultiLabelBinarizer(sparse_output=True)\n",
        "  Y = pd.DataFrame.sparse.from_spmatrix(mlb.fit_transform(Y_col), columns=mlb.classes_)\n",
        "  return Y"
      ],
      "metadata": {
        "id": "aB6DdKH3EXER"
      },
      "execution_count": null,
      "outputs": []
    },
    {
      "cell_type": "code",
      "source": [
        "from sklearn.preprocessing import MinMaxScaler, StandardScaler\n",
        "scaler = MinMaxScaler()\n",
        "dX = scaler.fit_transform(dataKNN.iloc[:, :-1])\n",
        "dY = MakeY(dataKNN['diag'])\n",
        "mX = scaler.fit_transform(mice_blood.iloc[:, :-1])\n",
        "mY = MakeY(mice_blood['diag'])"
      ],
      "metadata": {
        "id": "5BIjWxqnFtlB"
      },
      "execution_count": null,
      "outputs": []
    },
    {
      "cell_type": "code",
      "source": [
        "mY.shape"
      ],
      "metadata": {
        "colab": {
          "base_uri": "https://localhost:8080/"
        },
        "id": "o8Z9dNDCNNHt",
        "outputId": "b17f90ac-74c1-490c-f06b-b6e38dcf701f"
      },
      "execution_count": null,
      "outputs": [
        {
          "output_type": "execute_result",
          "data": {
            "text/plain": [
              "(19324, 18)"
            ]
          },
          "metadata": {},
          "execution_count": 11
        }
      ]
    },
    {
      "cell_type": "code",
      "source": [
        "diags_desc = mY.sum().sort_values(ascending=False)\n",
        "print(diags_desc)"
      ],
      "metadata": {
        "colab": {
          "base_uri": "https://localhost:8080/"
        },
        "id": "8DwOLkIB04UE",
        "outputId": "e98a1904-486d-498b-be33-95366ad7b6c7"
      },
      "execution_count": null,
      "outputs": [
        {
          "output_type": "stream",
          "name": "stdout",
          "text": [
            "Z         8379\n",
            "J         3450\n",
            "I         3238\n",
            "M         1955\n",
            "H         1879\n",
            "E         1378\n",
            "N         1250\n",
            "G         1248\n",
            "K         1161\n",
            "C         1013\n",
            "L          730\n",
            "D          492\n",
            "S          367\n",
            "O          257\n",
            "A          254\n",
            "R          189\n",
            "Q          168\n",
            "Другое     104\n",
            "dtype: int64\n"
          ]
        }
      ]
    },
    {
      "cell_type": "code",
      "source": [
        "def plothistory(history, metric='accuracy'):\n",
        "    acc = history.history[metric]\n",
        "    val_acc = history.history[f\"val_{metric}\"]\n",
        "    if metric == 'f1_score':\n",
        "        acc = [np.average(x) for x in acc]\n",
        "        val_acc = [np.average(x) for x in val_acc]\n",
        "    loss = history.history[\"loss\"]\n",
        "    val_loss = history.history[\"val_loss\"]\n",
        "    epochs = range(1, len(acc) + 1)\n",
        "    fig, ax = plt.subplots(nrows=1, ncols=2, figsize=(15, 6))\n",
        "    ax[0].plot(epochs, acc, label=\"Точность на этапе обучения\", color='brown')\n",
        "    ax[0].plot(epochs, val_acc, \"b\", label=\"Точность на этапе проверки\")\n",
        "    ax[0].set_title(\"Точность на этапах обучения и проверки\")\n",
        "    ax[0].legend()\n",
        "    ax[0].grid(True)\n",
        "    ax[1].plot(epochs, loss, label=\"Потери на этапе обучения\", color='brown')\n",
        "    ax[1].plot(epochs, val_loss, \"b\", label=\"Потери на этапе проверки\")\n",
        "    ax[1].set_title(\"Потери на этапах обучения и проверки\")\n",
        "    ax[1].legend()\n",
        "    ax[1].grid(True)\n",
        "    fig.show()"
      ],
      "metadata": {
        "id": "JQCQfMNTOfqx"
      },
      "execution_count": null,
      "outputs": []
    },
    {
      "cell_type": "code",
      "source": [
        "from skmultilearn.model_selection import iterative_train_test_split\n",
        "def trtestsplit(X, Y, splsize=0.2):\n",
        "    X_train, y_train, xval, yval = iterative_train_test_split(np.array(X), np.array(Y), test_size=splsize)\n",
        "    X_train, y_train, X_test, y_test = iterative_train_test_split(np.array(X_train), np.array(y_train), test_size=splsize)\n",
        "    X_train = tf.constant(X_train, dtype=tf.float32); y_train = tf.constant(y_train, dtype=tf.float32)\n",
        "    X_test = tf.constant(X_test, dtype=tf.float32); y_test = tf.constant(y_test, dtype=tf.float32)\n",
        "    xval = tf.constant(xval, dtype=tf.float32); yval = tf.constant(yval, dtype=tf.float32)\n",
        "    return X_train, y_train, X_test, y_test, xval, yval"
      ],
      "metadata": {
        "id": "nytdQthGeEz6"
      },
      "execution_count": null,
      "outputs": []
    },
    {
      "cell_type": "code",
      "source": [
        "#!rm -rf drive/MyDrive/Colab\\ Notebooks/'диплом пробую тут'/mblood"
      ],
      "metadata": {
        "id": "hK7qVLfMU1Ie"
      },
      "execution_count": null,
      "outputs": []
    },
    {
      "cell_type": "code",
      "source": [
        "from sklearn.metrics import accuracy_score, f1_score, log_loss, average_precision_score"
      ],
      "metadata": {
        "id": "_S0L68HCVKt6"
      },
      "execution_count": null,
      "outputs": []
    },
    {
      "cell_type": "markdown",
      "source": [
        "**ЧЕРНОВАЯ ПОПЫТКА С ПОТОЛКА**\n",
        "model = keras.models.Sequential()\n",
        "model.add = keras.Input(shape=(X_train.shape[1],)),\n",
        "model.add(keras.layers.Dense(16, activation='relu'))\n",
        "model.add(keras.layers.Dense(7, activation='sigmoid'))\n",
        "model.add(keras.layers.Dense(5, activation='relu'))\n",
        "model.add(keras.layers.Dense(16, activation='sigmoid'))\n",
        "model.add(keras.layers.Dense(Y.shape[1], activation='sigmoid'))\n",
        "\n",
        "model.compile(loss='binary_crossentropy', optimizer=keras.optimizers.Adam, metrics=keras.metrics.F1Score(average='weighted'))\n",
        "  #binary_crossentropy\n",
        "  #sparse_categorical_crossentropy\n",
        "model.summary()\n",
        "callbacks = [keras.callbacks.ModelCheckpoint(filepath=diplo+\"bloodHistory.keras\", save_best_only=True, monitor=\"val_loss\")]\n",
        "\n",
        "  #history = model.fit(scaled_X_train, y_train, batch_size=8, epochs=240, steps_per_epoch=10)\n",
        "history = model.fit(X_train, y_train, batch_size=8, epochs=100, callbacks=callbacks, validation_data=(xval, yval))"
      ],
      "metadata": {
        "id": "0ZGz5ubwH5Qz"
      }
    },
    {
      "cell_type": "markdown",
      "source": [
        "# Dropout, batchnorm на датакнн"
      ],
      "metadata": {
        "id": "-WBdkAXYSVfO"
      }
    },
    {
      "cell_type": "code",
      "source": [
        "X_train, y_train, X_test, y_test, xval, yval = trtestsplit(dX, dY, 0.2)"
      ],
      "metadata": {
        "id": "kLjdCrJvSeQa"
      },
      "execution_count": null,
      "outputs": []
    },
    {
      "cell_type": "code",
      "source": [
        "def model_builder(hp):\n",
        "    inp = tf.keras.layers.Input(shape = (X_train.shape[1],))\n",
        "    x = tf.keras.layers.BatchNormalization()(inp)\n",
        "    num_layers = hp.Int('num_layers', 3, 66, step=1)\n",
        "    for i in range(num_layers):\n",
        "        nunits = hp.Int(f'units{i}', min_value=3, max_value=100)\n",
        "        act = hp.Choice(f'activation{i}', ['relu', 'sigmoid', 'leaky_relu', 'elu', 'selu', 'swish'])\n",
        "        x = keras.layers.Dense(units=nunits, activation=act)(x)\n",
        "    drop_rate = hp.Choice(f'drate{i}', [0.25,0.3,0.35,0.4,0.45,0.5,0.55, 0.6, 0.65,0.7])\n",
        "    x = keras.layers.Dropout(drop_rate)(x)\n",
        "    outputs = tf.keras.layers.Dense(y_train.shape[1], activation='sigmoid')(x)\n",
        "    model = keras.Model(inp, outputs)\n",
        "\n",
        "    #lr = hp.Float('learning_rate', 0.0005, 0.02)\n",
        "\n",
        "    model.compile(loss=keras.losses.BinaryCrossentropy(),\n",
        "                  optimizer=keras.optimizers.Adam(), #learning_rate=lr\n",
        "                  metrics=keras.metrics.F1Score(average='weighted'))\n",
        "    return model"
      ],
      "metadata": {
        "id": "mzWOUSBDSUcw"
      },
      "execution_count": null,
      "outputs": []
    },
    {
      "cell_type": "code",
      "source": [
        "tuner0 = kt.Hyperband(model_builder,\n",
        "                     objective='val_loss',\n",
        "                     max_epochs=150,\n",
        "                     #validation_data=(xval, yval),\n",
        "                     directory=diplo+'dknn18',\n",
        "                     project_name='dknn18')\n",
        "callbacks0=[keras.callbacks.EarlyStopping(monitor='val_loss', mode='min')]#, patience=15\n",
        "tuner0.search(X_train, y_train, validation_data=(xval, yval),\n",
        "              epochs = 10, batch_size = 4,\n",
        "              callbacks = callbacks0, verbose = 1)"
      ],
      "metadata": {
        "colab": {
          "base_uri": "https://localhost:8080/"
        },
        "outputId": "01cdcc05-7298-41bc-e70d-ab91082ce258",
        "id": "7LU-cNDOTAWk"
      },
      "execution_count": null,
      "outputs": [
        {
          "output_type": "stream",
          "name": "stdout",
          "text": [
            "Trial 254 Complete [00h 01m 23s]\n",
            "val_loss: 0.22700656950473785\n",
            "\n",
            "Best val_loss So Far: 0.2009468376636505\n",
            "Total elapsed time: 08h 41m 54s\n"
          ]
        }
      ]
    },
    {
      "cell_type": "code",
      "source": [
        "best_hps0 = tuner0.get_best_hyperparameters()\n",
        "best_hps0[0].values"
      ],
      "metadata": {
        "id": "BSrVacfUTAWk",
        "colab": {
          "base_uri": "https://localhost:8080/"
        },
        "outputId": "0d54f41e-8e14-432e-cb85-72f2bede2b18"
      },
      "execution_count": null,
      "outputs": [
        {
          "output_type": "execute_result",
          "data": {
            "text/plain": [
              "{'num_layers': 3,\n",
              " 'units0': 34,\n",
              " 'activation0': 'sigmoid',\n",
              " 'units1': 60,\n",
              " 'activation1': 'leaky_relu',\n",
              " 'units2': 98,\n",
              " 'activation2': 'leaky_relu',\n",
              " 'drate2': 0.45,\n",
              " 'units3': 17,\n",
              " 'activation3': 'sigmoid',\n",
              " 'units4': 38,\n",
              " 'activation4': 'elu',\n",
              " 'units5': 8,\n",
              " 'activation5': 'leaky_relu',\n",
              " 'units6': 36,\n",
              " 'activation6': 'elu',\n",
              " 'units7': 51,\n",
              " 'activation7': 'swish',\n",
              " 'units8': 45,\n",
              " 'activation8': 'selu',\n",
              " 'units9': 61,\n",
              " 'activation9': 'relu',\n",
              " 'units10': 32,\n",
              " 'activation10': 'sigmoid',\n",
              " 'units11': 51,\n",
              " 'activation11': 'swish',\n",
              " 'units12': 99,\n",
              " 'activation12': 'sigmoid',\n",
              " 'units13': 62,\n",
              " 'activation13': 'swish',\n",
              " 'units14': 13,\n",
              " 'activation14': 'relu',\n",
              " 'units15': 4,\n",
              " 'activation15': 'selu',\n",
              " 'units16': 43,\n",
              " 'activation16': 'elu',\n",
              " 'units17': 39,\n",
              " 'activation17': 'leaky_relu',\n",
              " 'units18': 10,\n",
              " 'activation18': 'elu',\n",
              " 'units19': 9,\n",
              " 'activation19': 'elu',\n",
              " 'units20': 56,\n",
              " 'activation20': 'relu',\n",
              " 'units21': 29,\n",
              " 'activation21': 'selu',\n",
              " 'units22': 46,\n",
              " 'activation22': 'selu',\n",
              " 'units23': 32,\n",
              " 'activation23': 'selu',\n",
              " 'units24': 100,\n",
              " 'activation24': 'selu',\n",
              " 'units25': 93,\n",
              " 'activation25': 'leaky_relu',\n",
              " 'units26': 85,\n",
              " 'activation26': 'leaky_relu',\n",
              " 'units27': 24,\n",
              " 'activation27': 'swish',\n",
              " 'units28': 53,\n",
              " 'activation28': 'relu',\n",
              " 'units29': 36,\n",
              " 'activation29': 'leaky_relu',\n",
              " 'units30': 12,\n",
              " 'activation30': 'sigmoid',\n",
              " 'units31': 37,\n",
              " 'activation31': 'sigmoid',\n",
              " 'units32': 43,\n",
              " 'activation32': 'elu',\n",
              " 'units33': 85,\n",
              " 'activation33': 'sigmoid',\n",
              " 'units34': 48,\n",
              " 'activation34': 'leaky_relu',\n",
              " 'units35': 52,\n",
              " 'activation35': 'leaky_relu',\n",
              " 'units36': 58,\n",
              " 'activation36': 'selu',\n",
              " 'units37': 28,\n",
              " 'activation37': 'swish',\n",
              " 'units38': 46,\n",
              " 'activation38': 'leaky_relu',\n",
              " 'units39': 39,\n",
              " 'activation39': 'sigmoid',\n",
              " 'units40': 50,\n",
              " 'activation40': 'elu',\n",
              " 'units41': 17,\n",
              " 'activation41': 'swish',\n",
              " 'units42': 5,\n",
              " 'activation42': 'leaky_relu',\n",
              " 'units43': 65,\n",
              " 'activation43': 'relu',\n",
              " 'units44': 7,\n",
              " 'activation44': 'sigmoid',\n",
              " 'units45': 62,\n",
              " 'activation45': 'elu',\n",
              " 'units46': 42,\n",
              " 'activation46': 'relu',\n",
              " 'units47': 26,\n",
              " 'activation47': 'relu',\n",
              " 'units48': 28,\n",
              " 'activation48': 'leaky_relu',\n",
              " 'units49': 98,\n",
              " 'activation49': 'relu',\n",
              " 'units50': 42,\n",
              " 'activation50': 'selu',\n",
              " 'units51': 15,\n",
              " 'activation51': 'relu',\n",
              " 'units52': 35,\n",
              " 'activation52': 'sigmoid',\n",
              " 'units53': 69,\n",
              " 'activation53': 'sigmoid',\n",
              " 'units54': 23,\n",
              " 'activation54': 'elu',\n",
              " 'units55': 5,\n",
              " 'activation55': 'leaky_relu',\n",
              " 'units56': 73,\n",
              " 'activation56': 'swish',\n",
              " 'units57': 17,\n",
              " 'activation57': 'selu',\n",
              " 'units58': 96,\n",
              " 'activation58': 'sigmoid',\n",
              " 'units59': 33,\n",
              " 'activation59': 'sigmoid',\n",
              " 'units60': 75,\n",
              " 'activation60': 'leaky_relu',\n",
              " 'units61': 16,\n",
              " 'activation61': 'elu',\n",
              " 'units62': 3,\n",
              " 'activation62': 'leaky_relu',\n",
              " 'units63': 92,\n",
              " 'activation63': 'elu',\n",
              " 'drate63': 0.25,\n",
              " 'drate23': 0.35,\n",
              " 'drate18': 0.4,\n",
              " 'drate35': 0.45,\n",
              " 'drate31': 0.55,\n",
              " 'drate17': 0.4,\n",
              " 'drate4': 0.25,\n",
              " 'drate60': 0.3,\n",
              " 'drate21': 0.55,\n",
              " 'drate43': 0.7,\n",
              " 'drate37': 0.7,\n",
              " 'drate16': 0.35,\n",
              " 'drate13': 0.7,\n",
              " 'drate20': 0.25,\n",
              " 'drate36': 0.6,\n",
              " 'drate47': 0.35,\n",
              " 'drate25': 0.6,\n",
              " 'drate59': 0.35,\n",
              " 'drate46': 0.6,\n",
              " 'drate14': 0.4,\n",
              " 'drate40': 0.4,\n",
              " 'drate9': 0.7,\n",
              " 'drate26': 0.6,\n",
              " 'drate56': 0.25,\n",
              " 'drate5': 0.5,\n",
              " 'drate48': 0.4,\n",
              " 'drate15': 0.3,\n",
              " 'drate44': 0.65,\n",
              " 'drate38': 0.45,\n",
              " 'drate11': 0.25,\n",
              " 'drate33': 0.5,\n",
              " 'drate24': 0.3,\n",
              " 'drate45': 0.6,\n",
              " 'drate54': 0.7,\n",
              " 'drate27': 0.45,\n",
              " 'drate3': 0.65,\n",
              " 'drate34': 0.55,\n",
              " 'drate52': 0.55,\n",
              " 'drate7': 0.65,\n",
              " 'drate62': 0.3,\n",
              " 'drate29': 0.4,\n",
              " 'drate49': 0.4,\n",
              " 'drate8': 0.4,\n",
              " 'drate50': 0.25,\n",
              " 'drate22': 0.55,\n",
              " 'drate61': 0.5,\n",
              " 'drate32': 0.4,\n",
              " 'tuner/epochs': 200,\n",
              " 'tuner/initial_epoch': 67,\n",
              " 'tuner/bracket': 4,\n",
              " 'tuner/round': 4,\n",
              " 'tuner/trial_id': '0142',\n",
              " 'drate41': 0.5}"
            ]
          },
          "metadata": {},
          "execution_count": 21
        }
      ]
    },
    {
      "cell_type": "code",
      "source": [
        "best05 = tuner0.get_best_hyperparameters(5)\n",
        "model0 = tuner0.hypermodel.build(best_hps0[0])\n",
        "history0 = model0.fit(X_train, y_train, epochs=100, validation_data=(xval, yval))\n",
        "val_per_epoch0 = history0.history['val_loss']"
      ],
      "metadata": {
        "id": "MRIL0oQeTAWk",
        "colab": {
          "base_uri": "https://localhost:8080/"
        },
        "outputId": "743a06fb-1d68-400c-fa91-bd6fbb23b676"
      },
      "execution_count": null,
      "outputs": [
        {
          "output_type": "stream",
          "name": "stdout",
          "text": [
            "Epoch 1/100\n",
            "389/389 [==============================] - 3s 4ms/step - loss: 0.2457 - f1_score: 0.2466 - val_loss: 0.2073 - val_f1_score: 0.2742\n",
            "Epoch 2/100\n",
            "389/389 [==============================] - 1s 3ms/step - loss: 0.2119 - f1_score: 0.2677 - val_loss: 0.2034 - val_f1_score: 0.2739\n",
            "Epoch 3/100\n",
            "389/389 [==============================] - 2s 6ms/step - loss: 0.2085 - f1_score: 0.2676 - val_loss: 0.2029 - val_f1_score: 0.2743\n",
            "Epoch 4/100\n",
            "389/389 [==============================] - 3s 8ms/step - loss: 0.2072 - f1_score: 0.2680 - val_loss: 0.2015 - val_f1_score: 0.2762\n",
            "Epoch 5/100\n",
            "389/389 [==============================] - 2s 5ms/step - loss: 0.2057 - f1_score: 0.2701 - val_loss: 0.2008 - val_f1_score: 0.2748\n",
            "Epoch 6/100\n",
            "389/389 [==============================] - 2s 5ms/step - loss: 0.2049 - f1_score: 0.2713 - val_loss: 0.2002 - val_f1_score: 0.2760\n",
            "Epoch 7/100\n",
            "389/389 [==============================] - 2s 5ms/step - loss: 0.2047 - f1_score: 0.2707 - val_loss: 0.2002 - val_f1_score: 0.2804\n",
            "Epoch 8/100\n",
            "389/389 [==============================] - 1s 3ms/step - loss: 0.2040 - f1_score: 0.2724 - val_loss: 0.2005 - val_f1_score: 0.2768\n",
            "Epoch 9/100\n",
            "389/389 [==============================] - 1s 3ms/step - loss: 0.2038 - f1_score: 0.2731 - val_loss: 0.2000 - val_f1_score: 0.2805\n",
            "Epoch 10/100\n",
            "389/389 [==============================] - 1s 3ms/step - loss: 0.2033 - f1_score: 0.2746 - val_loss: 0.1996 - val_f1_score: 0.2802\n",
            "Epoch 11/100\n",
            "389/389 [==============================] - 1s 3ms/step - loss: 0.2034 - f1_score: 0.2752 - val_loss: 0.1995 - val_f1_score: 0.2808\n",
            "Epoch 12/100\n",
            "389/389 [==============================] - 3s 7ms/step - loss: 0.2032 - f1_score: 0.2780 - val_loss: 0.1994 - val_f1_score: 0.2822\n",
            "Epoch 13/100\n",
            "389/389 [==============================] - 2s 5ms/step - loss: 0.2031 - f1_score: 0.2774 - val_loss: 0.2000 - val_f1_score: 0.2837\n",
            "Epoch 14/100\n",
            "389/389 [==============================] - 2s 4ms/step - loss: 0.2030 - f1_score: 0.2810 - val_loss: 0.1993 - val_f1_score: 0.2858\n",
            "Epoch 15/100\n",
            "389/389 [==============================] - 2s 4ms/step - loss: 0.2028 - f1_score: 0.2789 - val_loss: 0.1994 - val_f1_score: 0.2836\n",
            "Epoch 16/100\n",
            "389/389 [==============================] - 2s 4ms/step - loss: 0.2025 - f1_score: 0.2799 - val_loss: 0.1999 - val_f1_score: 0.2838\n",
            "Epoch 17/100\n",
            "389/389 [==============================] - 1s 4ms/step - loss: 0.2023 - f1_score: 0.2805 - val_loss: 0.1989 - val_f1_score: 0.2870\n",
            "Epoch 18/100\n",
            "389/389 [==============================] - 2s 4ms/step - loss: 0.2023 - f1_score: 0.2838 - val_loss: 0.1989 - val_f1_score: 0.2868\n",
            "Epoch 19/100\n",
            "389/389 [==============================] - 2s 5ms/step - loss: 0.2020 - f1_score: 0.2847 - val_loss: 0.1993 - val_f1_score: 0.2840\n",
            "Epoch 20/100\n",
            "389/389 [==============================] - 2s 6ms/step - loss: 0.2021 - f1_score: 0.2831 - val_loss: 0.1988 - val_f1_score: 0.2912\n",
            "Epoch 21/100\n",
            "389/389 [==============================] - 2s 6ms/step - loss: 0.2019 - f1_score: 0.2864 - val_loss: 0.1999 - val_f1_score: 0.2842\n",
            "Epoch 22/100\n",
            "389/389 [==============================] - 1s 3ms/step - loss: 0.2017 - f1_score: 0.2843 - val_loss: 0.1990 - val_f1_score: 0.2920\n",
            "Epoch 23/100\n",
            "389/389 [==============================] - 2s 4ms/step - loss: 0.2017 - f1_score: 0.2862 - val_loss: 0.1993 - val_f1_score: 0.2842\n",
            "Epoch 24/100\n",
            "389/389 [==============================] - 1s 4ms/step - loss: 0.2018 - f1_score: 0.2865 - val_loss: 0.1994 - val_f1_score: 0.2857\n",
            "Epoch 25/100\n",
            "389/389 [==============================] - 1s 4ms/step - loss: 0.2015 - f1_score: 0.2840 - val_loss: 0.1997 - val_f1_score: 0.2977\n",
            "Epoch 26/100\n",
            "389/389 [==============================] - 2s 4ms/step - loss: 0.2014 - f1_score: 0.2869 - val_loss: 0.1993 - val_f1_score: 0.2911\n",
            "Epoch 27/100\n",
            "389/389 [==============================] - 1s 4ms/step - loss: 0.2011 - f1_score: 0.2857 - val_loss: 0.1987 - val_f1_score: 0.2932\n",
            "Epoch 28/100\n",
            "389/389 [==============================] - 2s 6ms/step - loss: 0.2012 - f1_score: 0.2874 - val_loss: 0.1992 - val_f1_score: 0.2856\n",
            "Epoch 29/100\n",
            "389/389 [==============================] - 3s 7ms/step - loss: 0.2013 - f1_score: 0.2859 - val_loss: 0.1995 - val_f1_score: 0.2916\n",
            "Epoch 30/100\n",
            "389/389 [==============================] - 2s 4ms/step - loss: 0.2011 - f1_score: 0.2866 - val_loss: 0.1990 - val_f1_score: 0.2878\n",
            "Epoch 31/100\n",
            "389/389 [==============================] - 2s 4ms/step - loss: 0.2015 - f1_score: 0.2884 - val_loss: 0.1987 - val_f1_score: 0.2921\n",
            "Epoch 32/100\n",
            "389/389 [==============================] - 2s 4ms/step - loss: 0.2012 - f1_score: 0.2869 - val_loss: 0.1991 - val_f1_score: 0.2878\n",
            "Epoch 33/100\n",
            "389/389 [==============================] - 1s 3ms/step - loss: 0.2012 - f1_score: 0.2879 - val_loss: 0.1990 - val_f1_score: 0.2913\n",
            "Epoch 34/100\n",
            "389/389 [==============================] - 2s 4ms/step - loss: 0.2005 - f1_score: 0.2879 - val_loss: 0.1993 - val_f1_score: 0.2915\n",
            "Epoch 35/100\n",
            "389/389 [==============================] - 1s 4ms/step - loss: 0.2005 - f1_score: 0.2875 - val_loss: 0.1989 - val_f1_score: 0.2932\n",
            "Epoch 36/100\n",
            "389/389 [==============================] - 2s 6ms/step - loss: 0.2008 - f1_score: 0.2877 - val_loss: 0.1985 - val_f1_score: 0.2887\n",
            "Epoch 37/100\n",
            "389/389 [==============================] - 3s 7ms/step - loss: 0.2006 - f1_score: 0.2885 - val_loss: 0.1987 - val_f1_score: 0.2945\n",
            "Epoch 38/100\n",
            "389/389 [==============================] - 2s 5ms/step - loss: 0.2006 - f1_score: 0.2895 - val_loss: 0.1985 - val_f1_score: 0.2962\n",
            "Epoch 39/100\n",
            "389/389 [==============================] - 2s 4ms/step - loss: 0.2004 - f1_score: 0.2913 - val_loss: 0.1989 - val_f1_score: 0.2972\n",
            "Epoch 40/100\n",
            "389/389 [==============================] - 2s 4ms/step - loss: 0.2002 - f1_score: 0.2898 - val_loss: 0.1986 - val_f1_score: 0.2920\n",
            "Epoch 41/100\n",
            "389/389 [==============================] - 2s 4ms/step - loss: 0.2002 - f1_score: 0.2909 - val_loss: 0.1986 - val_f1_score: 0.2909\n",
            "Epoch 42/100\n",
            "389/389 [==============================] - 2s 4ms/step - loss: 0.2002 - f1_score: 0.2905 - val_loss: 0.1991 - val_f1_score: 0.2988\n",
            "Epoch 43/100\n",
            "389/389 [==============================] - 1s 3ms/step - loss: 0.2000 - f1_score: 0.2926 - val_loss: 0.1984 - val_f1_score: 0.2967\n",
            "Epoch 44/100\n",
            "389/389 [==============================] - 2s 5ms/step - loss: 0.2002 - f1_score: 0.2910 - val_loss: 0.1985 - val_f1_score: 0.2942\n",
            "Epoch 45/100\n",
            "389/389 [==============================] - 3s 8ms/step - loss: 0.1995 - f1_score: 0.2930 - val_loss: 0.1989 - val_f1_score: 0.2955\n",
            "Epoch 46/100\n",
            "389/389 [==============================] - 2s 5ms/step - loss: 0.1999 - f1_score: 0.2920 - val_loss: 0.1986 - val_f1_score: 0.2936\n",
            "Epoch 47/100\n",
            "389/389 [==============================] - 2s 4ms/step - loss: 0.1996 - f1_score: 0.2936 - val_loss: 0.1987 - val_f1_score: 0.2936\n",
            "Epoch 48/100\n",
            "389/389 [==============================] - 2s 4ms/step - loss: 0.1995 - f1_score: 0.2918 - val_loss: 0.1988 - val_f1_score: 0.2883\n",
            "Epoch 49/100\n",
            "389/389 [==============================] - 2s 4ms/step - loss: 0.1999 - f1_score: 0.2930 - val_loss: 0.1989 - val_f1_score: 0.2921\n",
            "Epoch 50/100\n",
            "389/389 [==============================] - 1s 3ms/step - loss: 0.1994 - f1_score: 0.2954 - val_loss: 0.1992 - val_f1_score: 0.3011\n",
            "Epoch 51/100\n",
            "389/389 [==============================] - 2s 4ms/step - loss: 0.1994 - f1_score: 0.2927 - val_loss: 0.1988 - val_f1_score: 0.2951\n",
            "Epoch 52/100\n",
            "389/389 [==============================] - 2s 6ms/step - loss: 0.1994 - f1_score: 0.2953 - val_loss: 0.1986 - val_f1_score: 0.2993\n",
            "Epoch 53/100\n",
            "389/389 [==============================] - 3s 7ms/step - loss: 0.1996 - f1_score: 0.2939 - val_loss: 0.1989 - val_f1_score: 0.2978\n",
            "Epoch 54/100\n",
            "389/389 [==============================] - 2s 5ms/step - loss: 0.1993 - f1_score: 0.2970 - val_loss: 0.1989 - val_f1_score: 0.2990\n",
            "Epoch 55/100\n",
            "389/389 [==============================] - 2s 4ms/step - loss: 0.1990 - f1_score: 0.2936 - val_loss: 0.1985 - val_f1_score: 0.2973\n",
            "Epoch 56/100\n",
            "389/389 [==============================] - 2s 4ms/step - loss: 0.1991 - f1_score: 0.2961 - val_loss: 0.1985 - val_f1_score: 0.2971\n",
            "Epoch 57/100\n",
            "389/389 [==============================] - 2s 4ms/step - loss: 0.1991 - f1_score: 0.2961 - val_loss: 0.1985 - val_f1_score: 0.2917\n",
            "Epoch 58/100\n",
            "389/389 [==============================] - 2s 4ms/step - loss: 0.1990 - f1_score: 0.2967 - val_loss: 0.1989 - val_f1_score: 0.2927\n",
            "Epoch 59/100\n",
            "389/389 [==============================] - 2s 5ms/step - loss: 0.1991 - f1_score: 0.2959 - val_loss: 0.1989 - val_f1_score: 0.2947\n",
            "Epoch 60/100\n",
            "389/389 [==============================] - 2s 6ms/step - loss: 0.1990 - f1_score: 0.2954 - val_loss: 0.1987 - val_f1_score: 0.2925\n",
            "Epoch 61/100\n",
            "389/389 [==============================] - 3s 7ms/step - loss: 0.1988 - f1_score: 0.2960 - val_loss: 0.1987 - val_f1_score: 0.2937\n",
            "Epoch 62/100\n",
            "389/389 [==============================] - 2s 5ms/step - loss: 0.1988 - f1_score: 0.2956 - val_loss: 0.1994 - val_f1_score: 0.2933\n",
            "Epoch 63/100\n",
            "389/389 [==============================] - 1s 4ms/step - loss: 0.1988 - f1_score: 0.2974 - val_loss: 0.1986 - val_f1_score: 0.2925\n",
            "Epoch 64/100\n",
            "389/389 [==============================] - 1s 3ms/step - loss: 0.1986 - f1_score: 0.2988 - val_loss: 0.1988 - val_f1_score: 0.2980\n",
            "Epoch 65/100\n",
            "389/389 [==============================] - 2s 4ms/step - loss: 0.1987 - f1_score: 0.2987 - val_loss: 0.1989 - val_f1_score: 0.3015\n",
            "Epoch 66/100\n",
            "389/389 [==============================] - 2s 4ms/step - loss: 0.1982 - f1_score: 0.2997 - val_loss: 0.1994 - val_f1_score: 0.2951\n",
            "Epoch 67/100\n",
            "389/389 [==============================] - 2s 5ms/step - loss: 0.1986 - f1_score: 0.2985 - val_loss: 0.1987 - val_f1_score: 0.2996\n",
            "Epoch 68/100\n",
            "389/389 [==============================] - 1s 3ms/step - loss: 0.1984 - f1_score: 0.2981 - val_loss: 0.1991 - val_f1_score: 0.2952\n",
            "Epoch 69/100\n",
            "389/389 [==============================] - 3s 7ms/step - loss: 0.1983 - f1_score: 0.3009 - val_loss: 0.1992 - val_f1_score: 0.2929\n",
            "Epoch 70/100\n",
            "389/389 [==============================] - 2s 6ms/step - loss: 0.1984 - f1_score: 0.2961 - val_loss: 0.1988 - val_f1_score: 0.2937\n",
            "Epoch 71/100\n",
            "389/389 [==============================] - 2s 4ms/step - loss: 0.1984 - f1_score: 0.2988 - val_loss: 0.1987 - val_f1_score: 0.2977\n",
            "Epoch 72/100\n",
            "389/389 [==============================] - 2s 4ms/step - loss: 0.1982 - f1_score: 0.3010 - val_loss: 0.1988 - val_f1_score: 0.2899\n",
            "Epoch 73/100\n",
            "389/389 [==============================] - 3s 7ms/step - loss: 0.1980 - f1_score: 0.3019 - val_loss: 0.1988 - val_f1_score: 0.2969\n",
            "Epoch 74/100\n",
            "389/389 [==============================] - 3s 7ms/step - loss: 0.1978 - f1_score: 0.3004 - val_loss: 0.1989 - val_f1_score: 0.2975\n",
            "Epoch 75/100\n",
            "389/389 [==============================] - 2s 6ms/step - loss: 0.1980 - f1_score: 0.3034 - val_loss: 0.1988 - val_f1_score: 0.3031\n",
            "Epoch 76/100\n",
            "389/389 [==============================] - 2s 6ms/step - loss: 0.1981 - f1_score: 0.2997 - val_loss: 0.1992 - val_f1_score: 0.3026\n",
            "Epoch 77/100\n",
            "389/389 [==============================] - 2s 5ms/step - loss: 0.1978 - f1_score: 0.2997 - val_loss: 0.1989 - val_f1_score: 0.2985\n",
            "Epoch 78/100\n",
            "389/389 [==============================] - 1s 3ms/step - loss: 0.1978 - f1_score: 0.3011 - val_loss: 0.1987 - val_f1_score: 0.2953\n",
            "Epoch 79/100\n",
            "389/389 [==============================] - 2s 4ms/step - loss: 0.1978 - f1_score: 0.3020 - val_loss: 0.1993 - val_f1_score: 0.2999\n",
            "Epoch 80/100\n",
            "389/389 [==============================] - 1s 4ms/step - loss: 0.1975 - f1_score: 0.3033 - val_loss: 0.1990 - val_f1_score: 0.2986\n",
            "Epoch 81/100\n",
            "389/389 [==============================] - 1s 3ms/step - loss: 0.1978 - f1_score: 0.3015 - val_loss: 0.1992 - val_f1_score: 0.2937\n",
            "Epoch 82/100\n",
            "389/389 [==============================] - 1s 3ms/step - loss: 0.1976 - f1_score: 0.3008 - val_loss: 0.1990 - val_f1_score: 0.3004\n",
            "Epoch 83/100\n",
            "389/389 [==============================] - 1s 3ms/step - loss: 0.1975 - f1_score: 0.3031 - val_loss: 0.1997 - val_f1_score: 0.2975\n",
            "Epoch 84/100\n",
            "389/389 [==============================] - 2s 4ms/step - loss: 0.1974 - f1_score: 0.3018 - val_loss: 0.1992 - val_f1_score: 0.2996\n",
            "Epoch 85/100\n",
            "389/389 [==============================] - 2s 6ms/step - loss: 0.1974 - f1_score: 0.3041 - val_loss: 0.1993 - val_f1_score: 0.2913\n",
            "Epoch 86/100\n",
            "389/389 [==============================] - 3s 7ms/step - loss: 0.1974 - f1_score: 0.3043 - val_loss: 0.1994 - val_f1_score: 0.2934\n",
            "Epoch 87/100\n",
            "389/389 [==============================] - 1s 3ms/step - loss: 0.1977 - f1_score: 0.3020 - val_loss: 0.1991 - val_f1_score: 0.2960\n",
            "Epoch 88/100\n",
            "389/389 [==============================] - 2s 4ms/step - loss: 0.1972 - f1_score: 0.3021 - val_loss: 0.1990 - val_f1_score: 0.2998\n",
            "Epoch 89/100\n",
            "389/389 [==============================] - 2s 4ms/step - loss: 0.1971 - f1_score: 0.3024 - val_loss: 0.1991 - val_f1_score: 0.3001\n",
            "Epoch 90/100\n",
            "389/389 [==============================] - 2s 4ms/step - loss: 0.1973 - f1_score: 0.3025 - val_loss: 0.1991 - val_f1_score: 0.2988\n",
            "Epoch 91/100\n",
            "389/389 [==============================] - 2s 4ms/step - loss: 0.1971 - f1_score: 0.3049 - val_loss: 0.1993 - val_f1_score: 0.2911\n",
            "Epoch 92/100\n",
            "389/389 [==============================] - 2s 4ms/step - loss: 0.1968 - f1_score: 0.3080 - val_loss: 0.1991 - val_f1_score: 0.2947\n",
            "Epoch 93/100\n",
            "389/389 [==============================] - 3s 7ms/step - loss: 0.1972 - f1_score: 0.3053 - val_loss: 0.1990 - val_f1_score: 0.2960\n",
            "Epoch 94/100\n",
            "389/389 [==============================] - 3s 7ms/step - loss: 0.1965 - f1_score: 0.3057 - val_loss: 0.1994 - val_f1_score: 0.3060\n",
            "Epoch 95/100\n",
            "389/389 [==============================] - 2s 4ms/step - loss: 0.1970 - f1_score: 0.3048 - val_loss: 0.1992 - val_f1_score: 0.2980\n",
            "Epoch 96/100\n",
            "389/389 [==============================] - 1s 3ms/step - loss: 0.1972 - f1_score: 0.3038 - val_loss: 0.1992 - val_f1_score: 0.2952\n",
            "Epoch 97/100\n",
            "389/389 [==============================] - 1s 4ms/step - loss: 0.1967 - f1_score: 0.3056 - val_loss: 0.1995 - val_f1_score: 0.3017\n",
            "Epoch 98/100\n",
            "389/389 [==============================] - 2s 4ms/step - loss: 0.1965 - f1_score: 0.3055 - val_loss: 0.1997 - val_f1_score: 0.2985\n",
            "Epoch 99/100\n",
            "389/389 [==============================] - 2s 5ms/step - loss: 0.1966 - f1_score: 0.3055 - val_loss: 0.1993 - val_f1_score: 0.3027\n",
            "Epoch 100/100\n",
            "389/389 [==============================] - 2s 5ms/step - loss: 0.1967 - f1_score: 0.3076 - val_loss: 0.1994 - val_f1_score: 0.3028\n"
          ]
        }
      ]
    },
    {
      "cell_type": "code",
      "source": [
        "model0.summary()"
      ],
      "metadata": {
        "id": "lYELiZ8PTAWk",
        "colab": {
          "base_uri": "https://localhost:8080/"
        },
        "outputId": "99a07cee-c8b3-4d1c-e00b-4e2202663334"
      },
      "execution_count": null,
      "outputs": [
        {
          "output_type": "stream",
          "name": "stdout",
          "text": [
            "Model: \"model_1\"\n",
            "_________________________________________________________________\n",
            " Layer (type)                Output Shape              Param #   \n",
            "=================================================================\n",
            " input_2 (InputLayer)        [(None, 17)]              0         \n",
            "                                                                 \n",
            " batch_normalization_1 (Bat  (None, 17)                68        \n",
            " chNormalization)                                                \n",
            "                                                                 \n",
            " dense_34 (Dense)            (None, 34)                612       \n",
            "                                                                 \n",
            " dense_35 (Dense)            (None, 60)                2100      \n",
            "                                                                 \n",
            " dense_36 (Dense)            (None, 98)                5978      \n",
            "                                                                 \n",
            " dropout_1 (Dropout)         (None, 98)                0         \n",
            "                                                                 \n",
            " dense_37 (Dense)            (None, 18)                1782      \n",
            "                                                                 \n",
            "=================================================================\n",
            "Total params: 10540 (41.17 KB)\n",
            "Trainable params: 10506 (41.04 KB)\n",
            "Non-trainable params: 34 (136.00 Byte)\n",
            "_________________________________________________________________\n"
          ]
        }
      ]
    },
    {
      "cell_type": "code",
      "source": [
        "plothistory(history0, metric='f1_score')\n",
        "model0.save(diplo+'dknn18/dknn18.keras')"
      ],
      "metadata": {
        "id": "-xnyeGLuTAWl",
        "colab": {
          "base_uri": "https://localhost:8080/",
          "height": 485
        },
        "outputId": "f4052354-2409-4f19-a292-99897b233442"
      },
      "execution_count": null,
      "outputs": [
        {
          "output_type": "display_data",
          "data": {
            "text/plain": [
              "<Figure size 1500x600 with 2 Axes>"
            ],
            "image/png": "[encoded data removed]"
          },
          "metadata": {}
        }
      ]
    },
    {
      "cell_type": "code",
      "source": [
        "model0.evaluate(X_test, y_test)"
      ],
      "metadata": {
        "id": "5fQ0PpMpTAWl",
        "colab": {
          "base_uri": "https://localhost:8080/"
        },
        "outputId": "9eaf4fa5-162e-48d6-b0de-2bb22015e7a2"
      },
      "execution_count": null,
      "outputs": [
        {
          "output_type": "stream",
          "name": "stdout",
          "text": [
            "96/96 [==============================] - 0s 2ms/step - loss: 0.2027 - f1_score: 0.2976\n"
          ]
        },
        {
          "output_type": "execute_result",
          "data": {
            "text/plain": [
              "[0.20273469388484955, 0.2975667715072632]"
            ]
          },
          "metadata": {},
          "execution_count": 25
        }
      ]
    },
    {
      "cell_type": "markdown",
      "source": [],
      "metadata": {
        "id": "X8eOtjDiTAWl"
      }
    },
    {
      "cell_type": "markdown",
      "source": [
        "# Загрузка модели"
      ],
      "metadata": {
        "id": "fDCexxiYFbjg"
      }
    },
    {
      "cell_type": "code",
      "source": [
        "from sklearn.metrics import accuracy_score, f1_score, log_loss, average_precision_score"
      ],
      "metadata": {
        "id": "hYUyz7qsG5Va"
      },
      "execution_count": null,
      "outputs": []
    },
    {
      "cell_type": "code",
      "source": [
        "loaded = keras.models.load_model(diplo+'fblood/model_with_many_dropouts.keras')"
      ],
      "metadata": {
        "id": "le7-DwiLFavg"
      },
      "execution_count": null,
      "outputs": []
    },
    {
      "cell_type": "code",
      "source": [
        "loaded.summary()"
      ],
      "metadata": {
        "colab": {
          "base_uri": "https://localhost:8080/"
        },
        "id": "OQ6OEC0hRyqn",
        "outputId": "b184bd64-7d94-4528-b41c-58d2307f1035"
      },
      "execution_count": null,
      "outputs": [
        {
          "output_type": "stream",
          "name": "stdout",
          "text": [
            "Model: \"model_1\"\n",
            "_________________________________________________________________\n",
            " Layer (type)                Output Shape              Param #   \n",
            "=================================================================\n",
            " input_2 (InputLayer)        [(None, 86)]              0         \n",
            "                                                                 \n",
            " batch_normalization_1 (Bat  (None, 86)                344       \n",
            " chNormalization)                                                \n",
            "                                                                 \n",
            " dense_53 (Dense)            (None, 32)                2784      \n",
            "                                                                 \n",
            " dense_54 (Dense)            (None, 31)                1023      \n",
            "                                                                 \n",
            " dense_55 (Dense)            (None, 10)                320       \n",
            "                                                                 \n",
            " dense_56 (Dense)            (None, 36)                396       \n",
            "                                                                 \n",
            " dense_57 (Dense)            (None, 20)                740       \n",
            "                                                                 \n",
            " dropout_1 (Dropout)         (None, 20)                0         \n",
            "                                                                 \n",
            " dense_58 (Dense)            (None, 19)                399       \n",
            "                                                                 \n",
            "=================================================================\n",
            "Total params: 6006 (23.46 KB)\n",
            "Trainable params: 5834 (22.79 KB)\n",
            "Non-trainable params: 172 (688.00 Byte)\n",
            "_________________________________________________________________\n"
          ]
        }
      ]
    },
    {
      "cell_type": "code",
      "source": [
        "loaded.get_compile_config()"
      ],
      "metadata": {
        "colab": {
          "base_uri": "https://localhost:8080/"
        },
        "id": "o2iuvgE0Sila",
        "outputId": "3e005e84-a5fc-49c0-c530-de6c72cbc145"
      },
      "execution_count": null,
      "outputs": [
        {
          "output_type": "execute_result",
          "data": {
            "text/plain": [
              "{'optimizer': {'module': 'keras.optimizers',\n",
              "  'class_name': 'Adam',\n",
              "  'config': {'name': 'Adam',\n",
              "   'weight_decay': None,\n",
              "   'clipnorm': None,\n",
              "   'global_clipnorm': None,\n",
              "   'clipvalue': None,\n",
              "   'use_ema': False,\n",
              "   'ema_momentum': 0.99,\n",
              "   'ema_overwrite_frequency': None,\n",
              "   'jit_compile': False,\n",
              "   'is_legacy_optimizer': False,\n",
              "   'learning_rate': 0.0010000000474974513,\n",
              "   'beta_1': 0.9,\n",
              "   'beta_2': 0.999,\n",
              "   'epsilon': 1e-07,\n",
              "   'amsgrad': False},\n",
              "  'registered_name': None},\n",
              " 'loss': {'module': 'keras.losses',\n",
              "  'class_name': 'BinaryCrossentropy',\n",
              "  'config': {'reduction': 'auto',\n",
              "   'name': 'binary_crossentropy',\n",
              "   'from_logits': False,\n",
              "   'label_smoothing': 0.0,\n",
              "   'axis': -1,\n",
              "   'fn': 'binary_crossentropy'},\n",
              "  'registered_name': None},\n",
              " 'metrics': {'module': 'keras.metrics',\n",
              "  'class_name': 'F1Score',\n",
              "  'config': {'name': 'f1_score',\n",
              "   'dtype': 'float32',\n",
              "   'average': 'weighted',\n",
              "   'threshold': None},\n",
              "  'registered_name': None},\n",
              " 'loss_weights': None,\n",
              " 'weighted_metrics': None,\n",
              " 'run_eagerly': None,\n",
              " 'steps_per_execution': None,\n",
              " 'jit_compile': None}"
            ]
          },
          "metadata": {},
          "execution_count": 22
        }
      ]
    },
    {
      "cell_type": "code",
      "source": [
        "loaded.get_config()"
      ],
      "metadata": {
        "colab": {
          "base_uri": "https://localhost:8080/"
        },
        "id": "xCyFxZAoR9Cp",
        "outputId": "4fc407a6-cacf-4d5c-e11b-0d81d437f854"
      },
      "execution_count": null,
      "outputs": [
        {
          "output_type": "execute_result",
          "data": {
            "text/plain": [
              "{'name': 'model_1',\n",
              " 'trainable': True,\n",
              " 'layers': [{'module': 'keras.layers',\n",
              "   'class_name': 'InputLayer',\n",
              "   'config': {'batch_input_shape': (None, 86),\n",
              "    'dtype': 'float32',\n",
              "    'sparse': False,\n",
              "    'ragged': False,\n",
              "    'name': 'input_2'},\n",
              "   'registered_name': None,\n",
              "   'name': 'input_2',\n",
              "   'inbound_nodes': []},\n",
              "  {'module': 'keras.layers',\n",
              "   'class_name': 'BatchNormalization',\n",
              "   'config': {'name': 'batch_normalization_1',\n",
              "    'trainable': True,\n",
              "    'dtype': 'float32',\n",
              "    'axis': [1],\n",
              "    'momentum': 0.99,\n",
              "    'epsilon': 0.001,\n",
              "    'center': True,\n",
              "    'scale': True,\n",
              "    'beta_initializer': {'module': 'keras.initializers',\n",
              "     'class_name': 'Zeros',\n",
              "     'config': {},\n",
              "     'registered_name': None},\n",
              "    'gamma_initializer': {'module': 'keras.initializers',\n",
              "     'class_name': 'Ones',\n",
              "     'config': {},\n",
              "     'registered_name': None},\n",
              "    'moving_mean_initializer': {'module': 'keras.initializers',\n",
              "     'class_name': 'Zeros',\n",
              "     'config': {},\n",
              "     'registered_name': None},\n",
              "    'moving_variance_initializer': {'module': 'keras.initializers',\n",
              "     'class_name': 'Ones',\n",
              "     'config': {},\n",
              "     'registered_name': None},\n",
              "    'beta_regularizer': None,\n",
              "    'gamma_regularizer': None,\n",
              "    'beta_constraint': None,\n",
              "    'gamma_constraint': None},\n",
              "   'registered_name': None,\n",
              "   'build_config': {'input_shape': (None, 86)},\n",
              "   'name': 'batch_normalization_1',\n",
              "   'inbound_nodes': [[['input_2', 0, 0, {}]]]},\n",
              "  {'module': 'keras.layers',\n",
              "   'class_name': 'Dense',\n",
              "   'config': {'name': 'dense_53',\n",
              "    'trainable': True,\n",
              "    'dtype': 'float32',\n",
              "    'units': 32,\n",
              "    'activation': 'elu',\n",
              "    'use_bias': True,\n",
              "    'kernel_initializer': {'module': 'keras.initializers',\n",
              "     'class_name': 'GlorotUniform',\n",
              "     'config': {'seed': None},\n",
              "     'registered_name': None},\n",
              "    'bias_initializer': {'module': 'keras.initializers',\n",
              "     'class_name': 'Zeros',\n",
              "     'config': {},\n",
              "     'registered_name': None},\n",
              "    'kernel_regularizer': None,\n",
              "    'bias_regularizer': None,\n",
              "    'activity_regularizer': None,\n",
              "    'kernel_constraint': None,\n",
              "    'bias_constraint': None},\n",
              "   'registered_name': None,\n",
              "   'build_config': {'input_shape': (None, 86)},\n",
              "   'name': 'dense_53',\n",
              "   'inbound_nodes': [[['batch_normalization_1', 0, 0, {}]]]},\n",
              "  {'module': 'keras.layers',\n",
              "   'class_name': 'Dense',\n",
              "   'config': {'name': 'dense_54',\n",
              "    'trainable': True,\n",
              "    'dtype': 'float32',\n",
              "    'units': 31,\n",
              "    'activation': 'elu',\n",
              "    'use_bias': True,\n",
              "    'kernel_initializer': {'module': 'keras.initializers',\n",
              "     'class_name': 'GlorotUniform',\n",
              "     'config': {'seed': None},\n",
              "     'registered_name': None},\n",
              "    'bias_initializer': {'module': 'keras.initializers',\n",
              "     'class_name': 'Zeros',\n",
              "     'config': {},\n",
              "     'registered_name': None},\n",
              "    'kernel_regularizer': None,\n",
              "    'bias_regularizer': None,\n",
              "    'activity_regularizer': None,\n",
              "    'kernel_constraint': None,\n",
              "    'bias_constraint': None},\n",
              "   'registered_name': None,\n",
              "   'build_config': {'input_shape': (None, 32)},\n",
              "   'name': 'dense_54',\n",
              "   'inbound_nodes': [[['dense_53', 0, 0, {}]]]},\n",
              "  {'module': 'keras.layers',\n",
              "   'class_name': 'Dense',\n",
              "   'config': {'name': 'dense_55',\n",
              "    'trainable': True,\n",
              "    'dtype': 'float32',\n",
              "    'units': 10,\n",
              "    'activation': 'elu',\n",
              "    'use_bias': True,\n",
              "    'kernel_initializer': {'module': 'keras.initializers',\n",
              "     'class_name': 'GlorotUniform',\n",
              "     'config': {'seed': None},\n",
              "     'registered_name': None},\n",
              "    'bias_initializer': {'module': 'keras.initializers',\n",
              "     'class_name': 'Zeros',\n",
              "     'config': {},\n",
              "     'registered_name': None},\n",
              "    'kernel_regularizer': None,\n",
              "    'bias_regularizer': None,\n",
              "    'activity_regularizer': None,\n",
              "    'kernel_constraint': None,\n",
              "    'bias_constraint': None},\n",
              "   'registered_name': None,\n",
              "   'build_config': {'input_shape': (None, 31)},\n",
              "   'name': 'dense_55',\n",
              "   'inbound_nodes': [[['dense_54', 0, 0, {}]]]},\n",
              "  {'module': 'keras.layers',\n",
              "   'class_name': 'Dense',\n",
              "   'config': {'name': 'dense_56',\n",
              "    'trainable': True,\n",
              "    'dtype': 'float32',\n",
              "    'units': 36,\n",
              "    'activation': 'elu',\n",
              "    'use_bias': True,\n",
              "    'kernel_initializer': {'module': 'keras.initializers',\n",
              "     'class_name': 'GlorotUniform',\n",
              "     'config': {'seed': None},\n",
              "     'registered_name': None},\n",
              "    'bias_initializer': {'module': 'keras.initializers',\n",
              "     'class_name': 'Zeros',\n",
              "     'config': {},\n",
              "     'registered_name': None},\n",
              "    'kernel_regularizer': None,\n",
              "    'bias_regularizer': None,\n",
              "    'activity_regularizer': None,\n",
              "    'kernel_constraint': None,\n",
              "    'bias_constraint': None},\n",
              "   'registered_name': None,\n",
              "   'build_config': {'input_shape': (None, 10)},\n",
              "   'name': 'dense_56',\n",
              "   'inbound_nodes': [[['dense_55', 0, 0, {}]]]},\n",
              "  {'module': 'keras.layers',\n",
              "   'class_name': 'Dense',\n",
              "   'config': {'name': 'dense_57',\n",
              "    'trainable': True,\n",
              "    'dtype': 'float32',\n",
              "    'units': 20,\n",
              "    'activation': 'elu',\n",
              "    'use_bias': True,\n",
              "    'kernel_initializer': {'module': 'keras.initializers',\n",
              "     'class_name': 'GlorotUniform',\n",
              "     'config': {'seed': None},\n",
              "     'registered_name': None},\n",
              "    'bias_initializer': {'module': 'keras.initializers',\n",
              "     'class_name': 'Zeros',\n",
              "     'config': {},\n",
              "     'registered_name': None},\n",
              "    'kernel_regularizer': None,\n",
              "    'bias_regularizer': None,\n",
              "    'activity_regularizer': None,\n",
              "    'kernel_constraint': None,\n",
              "    'bias_constraint': None},\n",
              "   'registered_name': None,\n",
              "   'build_config': {'input_shape': (None, 36)},\n",
              "   'name': 'dense_57',\n",
              "   'inbound_nodes': [[['dense_56', 0, 0, {}]]]},\n",
              "  {'module': 'keras.layers',\n",
              "   'class_name': 'Dropout',\n",
              "   'config': {'name': 'dropout_1',\n",
              "    'trainable': True,\n",
              "    'dtype': 'float32',\n",
              "    'rate': 0.25,\n",
              "    'noise_shape': None,\n",
              "    'seed': None},\n",
              "   'registered_name': None,\n",
              "   'build_config': {'input_shape': (None, 20)},\n",
              "   'name': 'dropout_1',\n",
              "   'inbound_nodes': [[['dense_57', 0, 0, {}]]]},\n",
              "  {'module': 'keras.layers',\n",
              "   'class_name': 'Dense',\n",
              "   'config': {'name': 'dense_58',\n",
              "    'trainable': True,\n",
              "    'dtype': 'float32',\n",
              "    'units': 19,\n",
              "    'activation': 'sigmoid',\n",
              "    'use_bias': True,\n",
              "    'kernel_initializer': {'module': 'keras.initializers',\n",
              "     'class_name': 'GlorotUniform',\n",
              "     'config': {'seed': None},\n",
              "     'registered_name': None},\n",
              "    'bias_initializer': {'module': 'keras.initializers',\n",
              "     'class_name': 'Zeros',\n",
              "     'config': {},\n",
              "     'registered_name': None},\n",
              "    'kernel_regularizer': None,\n",
              "    'bias_regularizer': None,\n",
              "    'activity_regularizer': None,\n",
              "    'kernel_constraint': None,\n",
              "    'bias_constraint': None},\n",
              "   'registered_name': None,\n",
              "   'build_config': {'input_shape': (None, 20)},\n",
              "   'name': 'dense_58',\n",
              "   'inbound_nodes': [[['dropout_1', 0, 0, {}]]]}],\n",
              " 'input_layers': [['input_2', 0, 0]],\n",
              " 'output_layers': [['dense_58', 0, 0]]}"
            ]
          },
          "metadata": {},
          "execution_count": 19
        }
      ]
    },
    {
      "cell_type": "code",
      "source": [
        "y_pred = loaded.predict(X_test)\n",
        "pseudo_pred = np.where(y_pred > 0.466, 1, 0)\n",
        "f1 = f1_score(y_test, pseudo_pred, average='weighted')\n",
        "acc = accuracy_score(y_test, pseudo_pred)\n",
        "logloss = log_loss(y_test, pseudo_pred)\n",
        "apr = average_precision_score(y_test, pseudo_pred, average='weighted')\n",
        "print(f'\\t\\tF1 Score: {f1}; accuracy: {acc}; logloss: {logloss}, aucpr: {apr}')"
      ],
      "metadata": {
        "colab": {
          "base_uri": "https://localhost:8080/"
        },
        "id": "P0jSj4AlGSR5",
        "outputId": "9616aece-fb00-4587-e3b2-0850729d79f6"
      },
      "execution_count": null,
      "outputs": [
        {
          "output_type": "stream",
          "name": "stdout",
          "text": [
            "122/122 [==============================] - 1s 7ms/step\n",
            "\t\tF1 Score: 0.2824527377682058; accuracy: 0.2359897172236504; logloss: 18.450805577309183, aucpr: 0.2708336378446382\n"
          ]
        }
      ]
    },
    {
      "cell_type": "code",
      "source": [
        "y_pred = loaded.predict(X_train)\n",
        "pseudo_pred = np.where(y_pred > 0.466, 1, 0)\n",
        "f1 = f1_score(y_train, pseudo_pred, average='weighted')\n",
        "acc = accuracy_score(y_train, pseudo_pred)\n",
        "logloss = log_loss(y_train, pseudo_pred)\n",
        "apr = average_precision_score(y_train, pseudo_pred, average='weighted')\n",
        "print(f'\\t\\tF1 Score: {f1}; accuracy: {acc}; logloss: {logloss}, aucpr: {apr}')"
      ],
      "metadata": {
        "colab": {
          "base_uri": "https://localhost:8080/"
        },
        "id": "6xI4wpBEG0F7",
        "outputId": "516ec052-149f-4597-fc65-c0ae4748f911"
      },
      "execution_count": null,
      "outputs": [
        {
          "output_type": "stream",
          "name": "stdout",
          "text": [
            "387/387 [==============================] - 1s 3ms/step\n",
            "\t\tF1 Score: 0.2984550432631988; accuracy: 0.24581547667178782; logloss: 17.990442041900057, aucpr: 0.28301437880349123\n"
          ]
        }
      ]
    },
    {
      "cell_type": "markdown",
      "source": [
        "# Та же с батчнорм, но обучается на mice"
      ],
      "metadata": {
        "id": "A1kz80y_MIps"
      }
    },
    {
      "cell_type": "code",
      "source": [
        "X_train, y_train, X_test, y_test, xval, yval = trtestsplit(mX, mY, 0.2)"
      ],
      "metadata": {
        "id": "s3fhNKd7ObzP"
      },
      "execution_count": null,
      "outputs": []
    },
    {
      "cell_type": "code",
      "source": [
        "def model_builder(hp):\n",
        "    inp = tf.keras.layers.Input(shape = (X_train.shape[1],))\n",
        "    x = tf.keras.layers.BatchNormalization()(inp)\n",
        "    num_layers = hp.Int('num_layers', 3, 66, step=1)\n",
        "    for i in range(num_layers):\n",
        "        nunits = hp.Int(f'units{i}', min_value=3, max_value=100)\n",
        "        act = hp.Choice(f'activation{i}', ['relu', 'sigmoid', 'leaky_relu', 'elu', 'selu', 'swish'])\n",
        "        x = keras.layers.Dense(units=nunits, activation=act)(x)\n",
        "    drop_rate = hp.Choice(f'drate{i}', [0.25,0.3,0.35,0.4,0.45,0.5,0.55, 0.6, 0.65,0.7])\n",
        "    x = keras.layers.Dropout(drop_rate)(x)\n",
        "    outputs = tf.keras.layers.Dense(y_train.shape[1], activation='sigmoid')(x)\n",
        "    model = keras.Model(inp, outputs)\n",
        "\n",
        "    #lr = hp.Float('learning_rate', 0.0005, 0.02)\n",
        "\n",
        "    model.compile(loss=keras.losses.BinaryCrossentropy(),\n",
        "                  optimizer=keras.optimizers.Adam(), #learning_rate=lr\n",
        "                  metrics=keras.metrics.F1Score(average='weighted'))\n",
        "    return model"
      ],
      "metadata": {
        "id": "RN7W0y4HWcOT"
      },
      "execution_count": null,
      "outputs": []
    },
    {
      "cell_type": "code",
      "source": [
        "tuner1 = kt.Hyperband(model_builder,\n",
        "                     objective='val_loss',\n",
        "                     max_epochs=200,\n",
        "                     #validation_data=(xval, yval),\n",
        "                     directory=diplo+'mice18',\n",
        "                     project_name='mice18')\n",
        "callbacks1=[keras.callbacks.EarlyStopping(monitor='val_loss', mode='min')]#, patience=15\n",
        "tuner1.search(X_train, y_train, validation_data=(xval, yval),\n",
        "              epochs = 10, batch_size = 4,\n",
        "              callbacks = callbacks1, verbose = 1)"
      ],
      "metadata": {
        "colab": {
          "base_uri": "https://localhost:8080/"
        },
        "id": "ppqjHZFiMPXV",
        "outputId": "f498176e-f1cc-4f4b-fc1b-3a630658334c"
      },
      "execution_count": null,
      "outputs": [
        {
          "output_type": "stream",
          "name": "stdout",
          "text": [
            "Trial 213 Complete [00h 03m 43s]\n",
            "val_loss: 0.22690460085868835\n",
            "\n",
            "Best val_loss So Far: 0.20252691209316254\n",
            "Total elapsed time: 07h 19m 19s\n",
            "\n",
            "Search: Running Trial #214\n",
            "\n",
            "Value             |Best Value So Far |Hyperparameter\n",
            "60                |4                 |num_layers\n",
            "56                |17                |units0\n",
            "leaky_relu        |elu               |activation0\n",
            "21                |52                |units1\n",
            "selu              |elu               |activation1\n",
            "72                |52                |units2\n",
            "relu              |sigmoid           |activation2\n",
            "0.55              |0.5               |drate2\n",
            "37                |20                |units3\n",
            "swish             |swish             |activation3\n",
            "51                |67                |units4\n",
            "relu              |swish             |activation4\n",
            "74                |44                |units5\n",
            "swish             |swish             |activation5\n",
            "64                |86                |units6\n",
            "selu              |leaky_relu        |activation6\n",
            "3                 |61                |units7\n",
            "swish             |swish             |activation7\n",
            "83                |36                |units8\n",
            "leaky_relu        |sigmoid           |activation8\n",
            "77                |70                |units9\n",
            "sigmoid           |sigmoid           |activation9\n",
            "19                |51                |units10\n",
            "swish             |sigmoid           |activation10\n",
            "12                |37                |units11\n",
            "swish             |swish             |activation11\n",
            "97                |59                |units12\n",
            "relu              |leaky_relu        |activation12\n",
            "53                |49                |units13\n",
            "sigmoid           |elu               |activation13\n",
            "57                |25                |units14\n",
            "sigmoid           |leaky_relu        |activation14\n",
            "63                |52                |units15\n",
            "leaky_relu        |swish             |activation15\n",
            "81                |68                |units16\n",
            "sigmoid           |elu               |activation16\n",
            "26                |97                |units17\n",
            "swish             |relu              |activation17\n",
            "11                |16                |units18\n",
            "swish             |sigmoid           |activation18\n",
            "89                |94                |units19\n",
            "sigmoid           |selu              |activation19\n",
            "35                |68                |units20\n",
            "relu              |sigmoid           |activation20\n",
            "53                |7                 |units21\n",
            "swish             |selu              |activation21\n",
            "8                 |88                |units22\n",
            "selu              |swish             |activation22\n",
            "56                |24                |units23\n",
            "relu              |elu               |activation23\n",
            "72                |27                |units24\n",
            "sigmoid           |sigmoid           |activation24\n",
            "100               |26                |units25\n",
            "elu               |sigmoid           |activation25\n",
            "75                |82                |units26\n",
            "selu              |elu               |activation26\n",
            "27                |89                |units27\n",
            "relu              |relu              |activation27\n",
            "15                |66                |units28\n",
            "leaky_relu        |swish             |activation28\n",
            "5                 |60                |units29\n",
            "selu              |relu              |activation29\n",
            "59                |91                |units30\n",
            "elu               |sigmoid           |activation30\n",
            "59                |81                |units31\n",
            "selu              |selu              |activation31\n",
            "41                |13                |units32\n",
            "sigmoid           |elu               |activation32\n",
            "82                |3                 |units33\n",
            "leaky_relu        |relu              |activation33\n",
            "59                |13                |units34\n",
            "relu              |elu               |activation34\n",
            "76                |39                |units35\n",
            "elu               |relu              |activation35\n",
            "60                |55                |units36\n",
            "selu              |relu              |activation36\n",
            "22                |91                |units37\n",
            "sigmoid           |elu               |activation37\n",
            "4                 |3                 |units38\n",
            "swish             |selu              |activation38\n",
            "60                |36                |units39\n",
            "sigmoid           |leaky_relu        |activation39\n",
            "10                |80                |units40\n",
            "leaky_relu        |swish             |activation40\n",
            "34                |44                |units41\n",
            "selu              |relu              |activation41\n",
            "25                |45                |units42\n",
            "relu              |sigmoid           |activation42\n",
            "61                |100               |units43\n",
            "sigmoid           |leaky_relu        |activation43\n",
            "42                |58                |units44\n",
            "sigmoid           |selu              |activation44\n",
            "28                |80                |units45\n",
            "leaky_relu        |swish             |activation45\n",
            "97                |86                |units46\n",
            "relu              |leaky_relu        |activation46\n",
            "26                |80                |units47\n",
            "elu               |leaky_relu        |activation47\n",
            "0.7               |0.5               |drate47\n",
            "0.6               |0.35              |drate9\n",
            "0.7               |0.25              |drate3\n",
            "0.25              |0.45              |drate18\n",
            "0.45              |0.55              |drate32\n",
            "0.35              |0.65              |drate37\n",
            "39                |93                |units48\n",
            "relu              |swish             |activation48\n",
            "52                |94                |units49\n",
            "swish             |elu               |activation49\n",
            "67                |7                 |units50\n",
            "selu              |relu              |activation50\n",
            "44                |52                |units51\n",
            "leaky_relu        |elu               |activation51\n",
            "26                |96                |units52\n",
            "elu               |leaky_relu        |activation52\n",
            "0.7               |0.5               |drate52\n",
            "0.7               |0.55              |drate15\n",
            "0.25              |0.45              |drate45\n",
            "0.65              |0.4               |drate20\n",
            "16                |77                |units53\n",
            "sigmoid           |elu               |activation53\n",
            "27                |43                |units54\n",
            "relu              |relu              |activation54\n",
            "94                |25                |units55\n",
            "sigmoid           |elu               |activation55\n",
            "37                |81                |units56\n",
            "sigmoid           |relu              |activation56\n",
            "66                |85                |units57\n",
            "sigmoid           |selu              |activation57\n",
            "0.65              |0.55              |drate57\n",
            "0.65              |0.3               |drate6\n",
            "0.25              |0.65              |drate5\n",
            "0.55              |0.5               |drate36\n",
            "0.45              |0.35              |drate38\n",
            "0.35              |0.5               |drate27\n",
            "95                |14                |units58\n",
            "selu              |selu              |activation58\n",
            "48                |29                |units59\n",
            "elu               |relu              |activation59\n",
            "47                |68                |units60\n",
            "swish             |elu               |activation60\n",
            "8                 |60                |units61\n",
            "elu               |swish             |activation61\n",
            "26                |4                 |units62\n",
            "swish             |elu               |activation62\n",
            "7                 |50                |units63\n",
            "sigmoid           |relu              |activation63\n",
            "37                |49                |units64\n",
            "leaky_relu        |leaky_relu        |activation64\n",
            "46                |47                |units65\n",
            "swish             |relu              |activation65\n",
            "0.5               |0.7               |drate65\n",
            "0.4               |0.55              |drate42\n",
            "0.35              |0.6               |drate23\n",
            "0.45              |0.25              |drate8\n",
            "0.7               |0.65              |drate21\n",
            "0.7               |0.45              |drate17\n",
            "0.55              |0.4               |drate49\n",
            "0.6               |0.4               |drate10\n",
            "0.45              |0.55              |drate43\n",
            "0.25              |0.35              |drate50\n",
            "0.6               |0.65              |drate31\n",
            "0.25              |0.7               |drate39\n",
            "0.3               |0.65              |drate34\n",
            "0.7               |0.65              |drate29\n",
            "0.5               |0.7               |drate54\n",
            "0.25              |0.3               |drate60\n",
            "0.6               |0.3               |drate56\n",
            "0.7               |0.35              |drate16\n",
            "0.4               |0.4               |drate24\n",
            "0.65              |0.45              |drate4\n",
            "0.65              |0.25              |drate48\n",
            "0.25              |0.3               |drate61\n",
            "0.3               |0.5               |drate22\n",
            "0.6               |0.3               |drate11\n",
            "0.7               |0.3               |drate19\n",
            "0.45              |0.45              |drate25\n",
            "0.65              |0.35              |drate30\n",
            "0.35              |0.7               |drate53\n",
            "0.65              |0.55              |drate62\n",
            "0.3               |0.3               |drate58\n",
            "0.6               |0.6               |drate55\n",
            "0.6               |0.55              |drate64\n",
            "0.4               |None              |drate41\n",
            "0.3               |None              |drate26\n",
            "0.7               |None              |drate63\n",
            "0.65              |None              |drate59\n",
            "0.4               |None              |drate46\n",
            "0.65              |None              |drate7\n",
            "0.55              |None              |drate35\n",
            "0.3               |None              |drate40\n",
            "0.55              |None              |drate12\n",
            "23                |200               |tuner/epochs\n",
            "0                 |67                |tuner/initial_epoch\n",
            "2                 |4                 |tuner/bracket\n",
            "0                 |4                 |tuner/round\n",
            "\n",
            "Epoch 1/23\n",
            "3106/3106 [==============================] - 75s 19ms/step - loss: 0.2503 - f1_score: 0.1919 - val_loss: 0.2278 - val_f1_score: 0.1845\n",
            "Epoch 2/23\n",
            "3106/3106 [==============================] - 51s 17ms/step - loss: 0.2328 - f1_score: 0.1837 - val_loss: 0.2277 - val_f1_score: 0.1845\n",
            "Epoch 3/23\n",
            "2623/3106 [========================>.....] - ETA: 7s - loss: 0.2313 - f1_score: 0.1855"
          ]
        }
      ]
    },
    {
      "cell_type": "code",
      "source": [
        "best_hps1 = tuner1.get_best_hyperparameters()\n",
        "best_hps1[0].values"
      ],
      "metadata": {
        "id": "rrYy3OWGOEtO"
      },
      "execution_count": null,
      "outputs": []
    },
    {
      "cell_type": "code",
      "source": [
        "best15 = tuner1.get_best_hyperparameters(5)\n",
        "model1 = tuner1.hypermodel.build(best_hps1[0])\n",
        "history1 = model1.fit(X_train, y_train, epochs=100, validation_data=(xval, yval))\n",
        "val_per_epoch1 = history1.history['val_loss']"
      ],
      "metadata": {
        "id": "_BUU9ZNhOMFG"
      },
      "execution_count": null,
      "outputs": []
    },
    {
      "cell_type": "code",
      "source": [
        "model1.summary()"
      ],
      "metadata": {
        "id": "l-ew7cwIPS7I"
      },
      "execution_count": null,
      "outputs": []
    },
    {
      "cell_type": "code",
      "source": [
        "plothistory(history1, metric='f1_score')\n",
        "model1.save(diplo+'mice18/mice18.keras')"
      ],
      "metadata": {
        "id": "_M5xYS3O_-Wj"
      },
      "execution_count": null,
      "outputs": []
    },
    {
      "cell_type": "code",
      "source": [
        "model1.evaluate(X_test, y_test)"
      ],
      "metadata": {
        "id": "lKzbNspJCxqv"
      },
      "execution_count": null,
      "outputs": []
    },
    {
      "cell_type": "code",
      "source": [
        "plothistory(history1, metric='f1_score')\n",
        "model1.save(diplo+'withbatchanddropout_rmice/withbatchanddropout_rmice.keras')"
      ],
      "metadata": {
        "id": "kmKzs9TbOEvx",
        "colab": {
          "base_uri": "https://localhost:8080/",
          "height": 504
        },
        "outputId": "ac2adbf9-a7bd-44d2-9e9f-159bc0d7839e"
      },
      "execution_count": null,
      "outputs": [
        {
          "output_type": "display_data",
          "data": {
            "text/plain": [
              "<Figure size 1500x600 with 2 Axes>"
            ],
            "image/png": "[encoded data removed]"
          },
          "metadata": {}
        }
      ]
    },
    {
      "cell_type": "code",
      "source": [],
      "metadata": {
        "id": "W_PkZeEXRxBv"
      },
      "execution_count": null,
      "outputs": []
    },
    {
      "cell_type": "markdown",
      "source": [
        "# MY HyperModel (тюнинг размера батча)"
      ],
      "metadata": {
        "id": "NYG1TvKcFS8z"
      }
    },
    {
      "cell_type": "code",
      "source": [
        "class MyHyperModel(kt.HyperModel):\n",
        "    def build(self, hp):\n",
        "        inp = tf.keras.layers.Input(shape = (X_train.shape[1],))\n",
        "        x = tf.keras.layers.BatchNormalization()(inp)\n",
        "        num_layers = hp.Int('num_layers', 3, 66, step=1)\n",
        "        for i in range(num_layers):\n",
        "            nunits = hp.Int(f'units{i}', min_value=3, max_value=100)\n",
        "            act = hp.Choice(f'activation{i}', ['relu', 'sigmoid', 'leaky_relu', 'elu', 'selu', 'swish'])\n",
        "            x = keras.layers.Dense(units=nunits, activation=act)(x)\n",
        "        drop_rate = hp.Choice(f'dp{i}'.format(i=i), [0.25,0.3,0.35,0.4,0.45,0.5,0.55, 0.6, 0.65,0.7])\n",
        "        x = keras.layers.Dropout(drop_rate)(x)\n",
        "        outputs = tf.keras.layers.Dense(y_train.shape[1], activation='sigmoid')(x)\n",
        "        model = keras.Model(inp, outputs)\n",
        "\n",
        "        #lr = hp.Float('learning_rate', 0.0005, 0.02)\n",
        "\n",
        "        model.compile(loss=keras.losses.BinaryCrossentropy(),\n",
        "                      optimizer=keras.optimizers.Adam(), #learning_rate=lr\n",
        "                      metrics=keras.metrics.F1Score(average='weighted'))\n",
        "        return model\n",
        "\n",
        "    def fit(self, hp, model, *args, **kwargs):\n",
        "        return model.fit(\n",
        "            *args,\n",
        "            batch_size=hp.Choice(\"batch_size\", [1, 4, 8, 16, 32]),\n",
        "            #epochs=hp.Int('epochs', 10, 200, step=10),\n",
        "            **kwargs,\n",
        "        )"
      ],
      "metadata": {
        "id": "papPGI1FDkqV"
      },
      "execution_count": null,
      "outputs": []
    },
    {
      "cell_type": "code",
      "source": [
        "callbacks1=[keras.callbacks.EarlyStopping(monitor='val_loss', mode='min', patience=5)]\n",
        "tuner1 = kt.BayesianOptimization(\n",
        "    MyHyperModel(),\n",
        "    objective=\"val_accuracy\",\n",
        "    max_trials=10,\n",
        "    overwrite=True,\n",
        "    directory=diplo+\"mblood\",\n",
        "    project_name=\"hypermodel\",\n",
        ")"
      ],
      "metadata": {
        "id": "lsgA9yeWvec2"
      },
      "execution_count": null,
      "outputs": []
    },
    {
      "cell_type": "code",
      "source": [
        "tuner1.search(X_train, y_train, validation_data=(xval, yval),\n",
        "                epochs = 13, verbose = 1, callbacks = callbacks1)"
      ],
      "metadata": {
        "colab": {
          "base_uri": "https://localhost:8080/",
          "height": 1000
        },
        "id": "gV6n4dhtBa2l",
        "outputId": "711c8dc7-285f-430a-b3b1-cf728915ea73"
      },
      "execution_count": null,
      "outputs": [
        {
          "output_type": "stream",
          "name": "stdout",
          "text": [
            "Trial 2 Complete [00h 02m 41s]\n",
            "\n",
            "Best val_accuracy So Far: None\n",
            "Total elapsed time: 00h 39m 32s\n",
            "\n",
            "Search: Running Trial #3\n",
            "\n",
            "Value             |Best Value So Far |Hyperparameter\n",
            "17                |52                |num_layers\n",
            "56                |80                |units0\n",
            "leaky_relu        |elu               |activation0\n",
            "48                |51                |units1\n",
            "swish             |swish             |activation1\n",
            "20                |12                |units2\n",
            "swish             |swish             |activation2\n",
            "0.5               |0.4               |dp2\n",
            "63                |3                 |units3\n",
            "swish             |relu              |activation3\n",
            "95                |3                 |units4\n",
            "selu              |relu              |activation4\n",
            "81                |3                 |units5\n",
            "relu              |relu              |activation5\n",
            "75                |3                 |units6\n",
            "elu               |relu              |activation6\n",
            "89                |3                 |units7\n",
            "elu               |relu              |activation7\n",
            "8                 |3                 |units8\n",
            "selu              |relu              |activation8\n",
            "27                |3                 |units9\n",
            "leaky_relu        |relu              |activation9\n",
            "14                |3                 |units10\n",
            "leaky_relu        |relu              |activation10\n",
            "93                |3                 |units11\n",
            "selu              |relu              |activation11\n",
            "21                |3                 |units12\n",
            "selu              |relu              |activation12\n",
            "12                |3                 |units13\n",
            "relu              |relu              |activation13\n",
            "30                |3                 |units14\n",
            "swish             |relu              |activation14\n",
            "69                |3                 |units15\n",
            "leaky_relu        |relu              |activation15\n",
            "71                |3                 |units16\n",
            "elu               |relu              |activation16\n",
            "95                |3                 |units17\n",
            "swish             |relu              |activation17\n",
            "34                |3                 |units18\n",
            "relu              |relu              |activation18\n",
            "83                |3                 |units19\n",
            "leaky_relu        |relu              |activation19\n",
            "98                |3                 |units20\n",
            "elu               |relu              |activation20\n",
            "88                |3                 |units21\n",
            "selu              |relu              |activation21\n",
            "78                |3                 |units22\n",
            "relu              |relu              |activation22\n",
            "80                |3                 |units23\n",
            "elu               |relu              |activation23\n",
            "88                |3                 |units24\n",
            "swish             |relu              |activation24\n",
            "20                |3                 |units25\n",
            "selu              |relu              |activation25\n",
            "11                |3                 |units26\n",
            "swish             |relu              |activation26\n",
            "41                |3                 |units27\n",
            "selu              |relu              |activation27\n",
            "40                |3                 |units28\n",
            "sigmoid           |relu              |activation28\n",
            "14                |3                 |units29\n",
            "relu              |relu              |activation29\n",
            "9                 |3                 |units30\n",
            "elu               |relu              |activation30\n",
            "35                |3                 |units31\n",
            "relu              |relu              |activation31\n",
            "65                |3                 |units32\n",
            "leaky_relu        |relu              |activation32\n",
            "86                |3                 |units33\n",
            "selu              |relu              |activation33\n",
            "94                |3                 |units34\n",
            "leaky_relu        |relu              |activation34\n",
            "99                |3                 |units35\n",
            "swish             |relu              |activation35\n",
            "75                |3                 |units36\n",
            "sigmoid           |relu              |activation36\n",
            "73                |3                 |units37\n",
            "leaky_relu        |relu              |activation37\n",
            "74                |3                 |units38\n",
            "leaky_relu        |relu              |activation38\n",
            "6                 |3                 |units39\n",
            "selu              |relu              |activation39\n",
            "10                |3                 |units40\n",
            "elu               |relu              |activation40\n",
            "14                |3                 |units41\n",
            "selu              |relu              |activation41\n",
            "3                 |3                 |units42\n",
            "elu               |relu              |activation42\n",
            "40                |3                 |units43\n",
            "swish             |relu              |activation43\n",
            "33                |3                 |units44\n",
            "selu              |relu              |activation44\n",
            "99                |3                 |units45\n",
            "leaky_relu        |relu              |activation45\n",
            "11                |3                 |units46\n",
            "sigmoid           |relu              |activation46\n",
            "78                |3                 |units47\n",
            "elu               |relu              |activation47\n",
            "62                |3                 |units48\n",
            "sigmoid           |relu              |activation48\n",
            "43                |3                 |units49\n",
            "leaky_relu        |relu              |activation49\n",
            "86                |3                 |units50\n",
            "sigmoid           |relu              |activation50\n",
            "37                |3                 |units51\n",
            "relu              |relu              |activation51\n",
            "0.3               |0.25              |dp51\n",
            "32                |1                 |batch_size\n",
            "0.55              |None              |dp49\n",
            "\n",
            "Epoch 1/13\n",
            "388/388 [==============================] - 8s 9ms/step - loss: 0.2313 - f1_score: 0.2484 - val_loss: 0.2012 - val_f1_score: 0.2684\n",
            "Epoch 2/13\n",
            "388/388 [==============================] - 4s 10ms/step - loss: 0.2028 - f1_score: 0.2689 - val_loss: 0.1984 - val_f1_score: 0.2712\n",
            "Epoch 3/13\n",
            "388/388 [==============================] - 3s 7ms/step - loss: 0.1997 - f1_score: 0.2741 - val_loss: 0.1964 - val_f1_score: 0.2706\n",
            "Epoch 4/13\n",
            "388/388 [==============================] - 2s 6ms/step - loss: 0.1984 - f1_score: 0.2749 - val_loss: 0.1964 - val_f1_score: 0.2740\n",
            "Epoch 5/13\n",
            "388/388 [==============================] - 2s 6ms/step - loss: 0.1978 - f1_score: 0.2734 - val_loss: 0.1951 - val_f1_score: 0.2728\n",
            "Epoch 6/13\n",
            "388/388 [==============================] - 3s 7ms/step - loss: 0.1968 - f1_score: 0.2736 - val_loss: 0.1955 - val_f1_score: 0.2716\n",
            "Epoch 7/13\n",
            "388/388 [==============================] - 4s 11ms/step - loss: 0.1963 - f1_score: 0.2748 - val_loss: 0.1944 - val_f1_score: 0.2710\n",
            "Epoch 8/13\n",
            "388/388 [==============================] - 3s 7ms/step - loss: 0.1954 - f1_score: 0.2742 - val_loss: 0.1941 - val_f1_score: 0.2728\n",
            "Epoch 9/13\n",
            "388/388 [==============================] - 3s 7ms/step - loss: 0.1952 - f1_score: 0.2735 - val_loss: 0.1941 - val_f1_score: 0.2704\n",
            "Epoch 10/13\n",
            "388/388 [==============================] - 3s 7ms/step - loss: 0.1945 - f1_score: 0.2757 - val_loss: 0.1941 - val_f1_score: 0.2679\n",
            "Epoch 11/13\n",
            "388/388 [==============================] - 2s 6ms/step - loss: 0.1942 - f1_score: 0.2739 - val_loss: 0.1932 - val_f1_score: 0.2697\n",
            "Epoch 12/13\n",
            "388/388 [==============================] - 3s 9ms/step - loss: 0.1934 - f1_score: 0.2807 - val_loss: 0.1938 - val_f1_score: 0.2704\n",
            "Epoch 13/13\n",
            "388/388 [==============================] - 4s 10ms/step - loss: 0.1933 - f1_score: 0.2826 - val_loss: 0.1929 - val_f1_score: 0.2755\n"
          ]
        },
        {
          "output_type": "stream",
          "name": "stderr",
          "text": [
            "Traceback (most recent call last):\n",
            "  File \"/usr/local/lib/python3.10/dist-packages/keras_tuner/src/engine/base_tuner.py\", line 274, in _try_run_and_update_trial\n",
            "    self._run_and_update_trial(trial, *fit_args, **fit_kwargs)\n",
            "  File \"/usr/local/lib/python3.10/dist-packages/keras_tuner/src/engine/base_tuner.py\", line 265, in _run_and_update_trial\n",
            "    tuner_utils.convert_to_metrics_dict(\n",
            "  File \"/usr/local/lib/python3.10/dist-packages/keras_tuner/src/engine/tuner_utils.py\", line 132, in convert_to_metrics_dict\n",
            "    [convert_to_metrics_dict(elem, objective) for elem in results]\n",
            "  File \"/usr/local/lib/python3.10/dist-packages/keras_tuner/src/engine/tuner_utils.py\", line 132, in <listcomp>\n",
            "    [convert_to_metrics_dict(elem, objective) for elem in results]\n",
            "  File \"/usr/local/lib/python3.10/dist-packages/keras_tuner/src/engine/tuner_utils.py\", line 145, in convert_to_metrics_dict\n",
            "    best_value, _ = _get_best_value_and_best_epoch_from_history(\n",
            "  File \"/usr/local/lib/python3.10/dist-packages/keras_tuner/src/engine/tuner_utils.py\", line 116, in _get_best_value_and_best_epoch_from_history\n",
            "    objective_value = objective.get_value(metrics)\n",
            "  File \"/usr/local/lib/python3.10/dist-packages/keras_tuner/src/engine/objective.py\", line 59, in get_value\n",
            "    return logs[self.name]\n",
            "KeyError: 'val_accuracy'\n"
          ]
        },
        {
          "output_type": "error",
          "ename": "RuntimeError",
          "evalue": "Number of consecutive failures exceeded the limit of 3.\nTraceback (most recent call last):\n  File \"/usr/local/lib/python3.10/dist-packages/keras_tuner/src/engine/base_tuner.py\", line 274, in _try_run_and_update_trial\n    self._run_and_update_trial(trial, *fit_args, **fit_kwargs)\n  File \"/usr/local/lib/python3.10/dist-packages/keras_tuner/src/engine/base_tuner.py\", line 265, in _run_and_update_trial\n    tuner_utils.convert_to_metrics_dict(\n  File \"/usr/local/lib/python3.10/dist-packages/keras_tuner/src/engine/tuner_utils.py\", line 132, in convert_to_metrics_dict\n    [convert_to_metrics_dict(elem, objective) for elem in results]\n  File \"/usr/local/lib/python3.10/dist-packages/keras_tuner/src/engine/tuner_utils.py\", line 132, in <listcomp>\n    [convert_to_metrics_dict(elem, objective) for elem in results]\n  File \"/usr/local/lib/python3.10/dist-packages/keras_tuner/src/engine/tuner_utils.py\", line 145, in convert_to_metrics_dict\n    best_value, _ = _get_best_value_and_best_epoch_from_history(\n  File \"/usr/local/lib/python3.10/dist-packages/keras_tuner/src/engine/tuner_utils.py\", line 116, in _get_best_value_and_best_epoch_from_history\n    objective_value = objective.get_value(metrics)\n  File \"/usr/local/lib/python3.10/dist-packages/keras_tuner/src/engine/objective.py\", line 59, in get_value\n    return logs[self.name]\nKeyError: 'val_accuracy'\n",
          "traceback": [
            "\u001b[0;31m---------------------------------------------------------------------------\u001b[0m",
            "\u001b[0;31mRuntimeError\u001b[0m                              Traceback (most recent call last)",
            "\u001b[0;32m<ipython-input-82-a5fb4c5b1a5a>\u001b[0m in \u001b[0;36m<cell line: 1>\u001b[0;34m()\u001b[0m\n\u001b[0;32m----> 1\u001b[0;31m tuner1.search(X_train, y_train, validation_data=(xval, yval),\n\u001b[0m\u001b[1;32m      2\u001b[0m                 epochs = 13, verbose = 1, callbacks = callbacks1)        \n",
            "\u001b[0;32m/usr/local/lib/python3.10/dist-packages/keras_tuner/src/engine/base_tuner.py\u001b[0m in \u001b[0;36msearch\u001b[0;34m(self, *fit_args, **fit_kwargs)\u001b[0m\n\u001b[1;32m    233\u001b[0m             \u001b[0mself\u001b[0m\u001b[0;34m.\u001b[0m\u001b[0mon_trial_begin\u001b[0m\u001b[0;34m(\u001b[0m\u001b[0mtrial\u001b[0m\u001b[0;34m)\u001b[0m\u001b[0;34m\u001b[0m\u001b[0;34m\u001b[0m\u001b[0m\n\u001b[1;32m    234\u001b[0m             \u001b[0mself\u001b[0m\u001b[0;34m.\u001b[0m\u001b[0m_try_run_and_update_trial\u001b[0m\u001b[0;34m(\u001b[0m\u001b[0mtrial\u001b[0m\u001b[0;34m,\u001b[0m \u001b[0;34m*\u001b[0m\u001b[0mfit_args\u001b[0m\u001b[0;34m,\u001b[0m \u001b[0;34m**\u001b[0m\u001b[0mfit_kwargs\u001b[0m\u001b[0;34m)\u001b[0m\u001b[0;34m\u001b[0m\u001b[0;34m\u001b[0m\u001b[0m\n\u001b[0;32m--> 235\u001b[0;31m             \u001b[0mself\u001b[0m\u001b[0;34m.\u001b[0m\u001b[0mon_trial_end\u001b[0m\u001b[0;34m(\u001b[0m\u001b[0mtrial\u001b[0m\u001b[0;34m)\u001b[0m\u001b[0;34m\u001b[0m\u001b[0;34m\u001b[0m\u001b[0m\n\u001b[0m\u001b[1;32m    236\u001b[0m         \u001b[0mself\u001b[0m\u001b[0;34m.\u001b[0m\u001b[0mon_search_end\u001b[0m\u001b[0;34m(\u001b[0m\u001b[0;34m)\u001b[0m\u001b[0;34m\u001b[0m\u001b[0;34m\u001b[0m\u001b[0m\n\u001b[1;32m    237\u001b[0m \u001b[0;34m\u001b[0m\u001b[0m\n",
            "\u001b[0;32m/usr/local/lib/python3.10/dist-packages/keras_tuner/src/engine/base_tuner.py\u001b[0m in \u001b[0;36mon_trial_end\u001b[0;34m(self, trial)\u001b[0m\n\u001b[1;32m    337\u001b[0m             \u001b[0mtrial\u001b[0m\u001b[0;34m:\u001b[0m \u001b[0mA\u001b[0m\u001b[0;31m \u001b[0m\u001b[0;31m`\u001b[0m\u001b[0mTrial\u001b[0m\u001b[0;31m`\u001b[0m \u001b[0minstance\u001b[0m\u001b[0;34m.\u001b[0m\u001b[0;34m\u001b[0m\u001b[0;34m\u001b[0m\u001b[0m\n\u001b[1;32m    338\u001b[0m         \"\"\"\n\u001b[0;32m--> 339\u001b[0;31m         \u001b[0mself\u001b[0m\u001b[0;34m.\u001b[0m\u001b[0moracle\u001b[0m\u001b[0;34m.\u001b[0m\u001b[0mend_trial\u001b[0m\u001b[0;34m(\u001b[0m\u001b[0mtrial\u001b[0m\u001b[0;34m)\u001b[0m\u001b[0;34m\u001b[0m\u001b[0;34m\u001b[0m\u001b[0m\n\u001b[0m\u001b[1;32m    340\u001b[0m         \u001b[0mself\u001b[0m\u001b[0;34m.\u001b[0m\u001b[0msave\u001b[0m\u001b[0;34m(\u001b[0m\u001b[0;34m)\u001b[0m\u001b[0;34m\u001b[0m\u001b[0;34m\u001b[0m\u001b[0m\n\u001b[1;32m    341\u001b[0m \u001b[0;34m\u001b[0m\u001b[0m\n",
            "\u001b[0;32m/usr/local/lib/python3.10/dist-packages/keras_tuner/src/engine/oracle.py\u001b[0m in \u001b[0;36mwrapped_func\u001b[0;34m(*args, **kwargs)\u001b[0m\n\u001b[1;32m    106\u001b[0m             \u001b[0mLOCKS\u001b[0m\u001b[0;34m[\u001b[0m\u001b[0moracle\u001b[0m\u001b[0;34m]\u001b[0m\u001b[0;34m.\u001b[0m\u001b[0macquire\u001b[0m\u001b[0;34m(\u001b[0m\u001b[0;34m)\u001b[0m\u001b[0;34m\u001b[0m\u001b[0;34m\u001b[0m\u001b[0m\n\u001b[1;32m    107\u001b[0m             \u001b[0mTHREADS\u001b[0m\u001b[0;34m[\u001b[0m\u001b[0moracle\u001b[0m\u001b[0;34m]\u001b[0m \u001b[0;34m=\u001b[0m \u001b[0mthread_name\u001b[0m\u001b[0;34m\u001b[0m\u001b[0;34m\u001b[0m\u001b[0m\n\u001b[0;32m--> 108\u001b[0;31m         \u001b[0mret_val\u001b[0m \u001b[0;34m=\u001b[0m \u001b[0mfunc\u001b[0m\u001b[0;34m(\u001b[0m\u001b[0;34m*\u001b[0m\u001b[0margs\u001b[0m\u001b[0;34m,\u001b[0m \u001b[0;34m**\u001b[0m\u001b[0mkwargs\u001b[0m\u001b[0;34m)\u001b[0m\u001b[0;34m\u001b[0m\u001b[0;34m\u001b[0m\u001b[0m\n\u001b[0m\u001b[1;32m    109\u001b[0m         \u001b[0;32mif\u001b[0m \u001b[0mneed_acquire\u001b[0m\u001b[0;34m:\u001b[0m\u001b[0;34m\u001b[0m\u001b[0;34m\u001b[0m\u001b[0m\n\u001b[1;32m    110\u001b[0m             \u001b[0mTHREADS\u001b[0m\u001b[0;34m[\u001b[0m\u001b[0moracle\u001b[0m\u001b[0;34m]\u001b[0m \u001b[0;34m=\u001b[0m \u001b[0;32mNone\u001b[0m\u001b[0;34m\u001b[0m\u001b[0;34m\u001b[0m\u001b[0m\n",
            "\u001b[0;32m/usr/local/lib/python3.10/dist-packages/keras_tuner/src/engine/oracle.py\u001b[0m in \u001b[0;36mend_trial\u001b[0;34m(self, trial)\u001b[0m\n\u001b[1;32m    586\u001b[0m         \u001b[0;32mif\u001b[0m \u001b[0;32mnot\u001b[0m \u001b[0mself\u001b[0m\u001b[0;34m.\u001b[0m\u001b[0m_retry\u001b[0m\u001b[0;34m(\u001b[0m\u001b[0mtrial\u001b[0m\u001b[0;34m)\u001b[0m\u001b[0;34m:\u001b[0m\u001b[0;34m\u001b[0m\u001b[0;34m\u001b[0m\u001b[0m\n\u001b[1;32m    587\u001b[0m             \u001b[0mself\u001b[0m\u001b[0;34m.\u001b[0m\u001b[0mend_order\u001b[0m\u001b[0;34m.\u001b[0m\u001b[0mappend\u001b[0m\u001b[0;34m(\u001b[0m\u001b[0mtrial\u001b[0m\u001b[0;34m.\u001b[0m\u001b[0mtrial_id\u001b[0m\u001b[0;34m)\u001b[0m\u001b[0;34m\u001b[0m\u001b[0;34m\u001b[0m\u001b[0m\n\u001b[0;32m--> 588\u001b[0;31m             \u001b[0mself\u001b[0m\u001b[0;34m.\u001b[0m\u001b[0m_check_consecutive_failures\u001b[0m\u001b[0;34m(\u001b[0m\u001b[0;34m)\u001b[0m\u001b[0;34m\u001b[0m\u001b[0;34m\u001b[0m\u001b[0m\n\u001b[0m\u001b[1;32m    589\u001b[0m \u001b[0;34m\u001b[0m\u001b[0m\n\u001b[1;32m    590\u001b[0m         \u001b[0mself\u001b[0m\u001b[0;34m.\u001b[0m\u001b[0m_save_trial\u001b[0m\u001b[0;34m(\u001b[0m\u001b[0mtrial\u001b[0m\u001b[0;34m)\u001b[0m\u001b[0;34m\u001b[0m\u001b[0;34m\u001b[0m\u001b[0m\n",
            "\u001b[0;32m/usr/local/lib/python3.10/dist-packages/keras_tuner/src/engine/oracle.py\u001b[0m in \u001b[0;36m_check_consecutive_failures\u001b[0;34m(self)\u001b[0m\n\u001b[1;32m    543\u001b[0m                 \u001b[0mconsecutive_failures\u001b[0m \u001b[0;34m=\u001b[0m \u001b[0;36m0\u001b[0m\u001b[0;34m\u001b[0m\u001b[0;34m\u001b[0m\u001b[0m\n\u001b[1;32m    544\u001b[0m             \u001b[0;32mif\u001b[0m \u001b[0mconsecutive_failures\u001b[0m \u001b[0;34m==\u001b[0m \u001b[0mself\u001b[0m\u001b[0;34m.\u001b[0m\u001b[0mmax_consecutive_failed_trials\u001b[0m\u001b[0;34m:\u001b[0m\u001b[0;34m\u001b[0m\u001b[0;34m\u001b[0m\u001b[0m\n\u001b[0;32m--> 545\u001b[0;31m                 raise RuntimeError(\n\u001b[0m\u001b[1;32m    546\u001b[0m                     \u001b[0;34m\"Number of consecutive failures exceeded the limit \"\u001b[0m\u001b[0;34m\u001b[0m\u001b[0;34m\u001b[0m\u001b[0m\n\u001b[1;32m    547\u001b[0m                     \u001b[0;34mf\"of {self.max_consecutive_failed_trials}.\\n\"\u001b[0m\u001b[0;34m\u001b[0m\u001b[0;34m\u001b[0m\u001b[0m\n",
            "\u001b[0;31mRuntimeError\u001b[0m: Number of consecutive failures exceeded the limit of 3.\nTraceback (most recent call last):\n  File \"/usr/local/lib/python3.10/dist-packages/keras_tuner/src/engine/base_tuner.py\", line 274, in _try_run_and_update_trial\n    self._run_and_update_trial(trial, *fit_args, **fit_kwargs)\n  File \"/usr/local/lib/python3.10/dist-packages/keras_tuner/src/engine/base_tuner.py\", line 265, in _run_and_update_trial\n    tuner_utils.convert_to_metrics_dict(\n  File \"/usr/local/lib/python3.10/dist-packages/keras_tuner/src/engine/tuner_utils.py\", line 132, in convert_to_metrics_dict\n    [convert_to_metrics_dict(elem, objective) for elem in results]\n  File \"/usr/local/lib/python3.10/dist-packages/keras_tuner/src/engine/tuner_utils.py\", line 132, in <listcomp>\n    [convert_to_metrics_dict(elem, objective) for elem in results]\n  File \"/usr/local/lib/python3.10/dist-packages/keras_tuner/src/engine/tuner_utils.py\", line 145, in convert_to_metrics_dict\n    best_value, _ = _get_best_value_and_best_epoch_from_history(\n  File \"/usr/local/lib/python3.10/dist-packages/keras_tuner/src/engine/tuner_utils.py\", line 116, in _get_best_value_and_best_epoch_from_history\n    objective_value = objective.get_value(metrics)\n  File \"/usr/local/lib/python3.10/dist-packages/keras_tuner/src/engine/objective.py\", line 59, in get_value\n    return logs[self.name]\nKeyError: 'val_accuracy'\n"
          ]
        }
      ]
    },
    {
      "cell_type": "code",
      "source": [
        "best5_1 = tuner1.get_best_hyperparameters(5)\n",
        "best_hps"
      ],
      "metadata": {
        "id": "ahBCetTrBRYd"
      },
      "execution_count": null,
      "outputs": []
    },
    {
      "cell_type": "code",
      "source": [],
      "metadata": {
        "id": "jruV7E4CNbKu"
      },
      "execution_count": null,
      "outputs": []
    },
    {
      "cell_type": "code",
      "source": [],
      "metadata": {
        "id": "W9366K2WPzro"
      },
      "execution_count": null,
      "outputs": []
    },
    {
      "cell_type": "code",
      "source": [],
      "metadata": {
        "id": "l6U_Xa3x5C3Y"
      },
      "execution_count": null,
      "outputs": []
    },
    {
      "cell_type": "markdown",
      "source": [
        "# TensorBoard"
      ],
      "metadata": {
        "id": "_EpUxQ3w45Ce"
      }
    },
    {
      "cell_type": "code",
      "source": [
        "import tensorboard\n",
        "%load_ext tensorboard\n",
        "\n",
        "%tensorboard --logdir /tmp/tb_logs"
      ],
      "metadata": {
        "id": "vMvFbYJVnuuP"
      },
      "execution_count": null,
      "outputs": []
    },
    {
      "cell_type": "code",
      "source": [
        "%tensorboard --logdir 'logs/'"
      ],
      "metadata": {
        "id": "9jW-Ac4zvsWr"
      },
      "execution_count": null,
      "outputs": []
    }
  ]
}